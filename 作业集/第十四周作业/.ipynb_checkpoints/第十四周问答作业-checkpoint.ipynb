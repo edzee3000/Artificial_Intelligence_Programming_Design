{
 "cells": [
  {
   "cell_type": "code",
   "execution_count": 7,
   "id": "da03dd33-5ccb-49e2-a313-211efc69e75f",
   "metadata": {},
   "outputs": [],
   "source": [
    "#####电商数据预处理\n",
    "import numpy as np\n",
    "import pandas as pd\n",
    "import matplotlib.pyplot as plt"
   ]
  },
  {
   "cell_type": "code",
   "execution_count": 8,
   "id": "b353deef-8ed3-4c82-ba8d-086bb80e6195",
   "metadata": {},
   "outputs": [
    {
     "name": "stdout",
     "output_type": "stream",
     "text": [
      "原数据为：        InvoiceNo StockCode                          Description  Quantity  \\\n",
      "0         536365    85123A   WHITE HANGING HEART T-LIGHT HOLDER         6   \n",
      "1         536365     71053                  WHITE METAL LANTERN         6   \n",
      "2         536365    84406B       CREAM CUPID HEARTS COAT HANGER         8   \n",
      "3         536365    84029G  KNITTED UNION FLAG HOT WATER BOTTLE         6   \n",
      "4         536365    84029E       RED WOOLLY HOTTIE WHITE HEART.         6   \n",
      "...          ...       ...                                  ...       ...   \n",
      "541904    581587     22613          PACK OF 20 SPACEBOY NAPKINS        12   \n",
      "541905    581587     22899         CHILDREN'S APRON DOLLY GIRL          6   \n",
      "541906    581587     23254        CHILDRENS CUTLERY DOLLY GIRL          4   \n",
      "541907    581587     23255      CHILDRENS CUTLERY CIRCUS PARADE         4   \n",
      "541908    581587     22138        BAKING SET 9 PIECE RETROSPOT          3   \n",
      "\n",
      "               InvoiceDate  UnitPrice  CustomerID         Country  \n",
      "0      2010-12-01 08:26:00       2.55     17850.0  United Kingdom  \n",
      "1      2010-12-01 08:26:00       3.39     17850.0  United Kingdom  \n",
      "2      2010-12-01 08:26:00       2.75     17850.0  United Kingdom  \n",
      "3      2010-12-01 08:26:00       3.39     17850.0  United Kingdom  \n",
      "4      2010-12-01 08:26:00       3.39     17850.0  United Kingdom  \n",
      "...                    ...        ...         ...             ...  \n",
      "541904 2011-12-09 12:50:00       0.85     12680.0          France  \n",
      "541905 2011-12-09 12:50:00       2.10     12680.0          France  \n",
      "541906 2011-12-09 12:50:00       4.15     12680.0          France  \n",
      "541907 2011-12-09 12:50:00       4.15     12680.0          France  \n",
      "541908 2011-12-09 12:50:00       4.95     12680.0          France  \n",
      "\n",
      "[541909 rows x 8 columns]\n",
      "去除包含缺失值的交易记录之后数据为：          index InvoiceNo StockCode                          Description  \\\n",
      "0            0    536365    85123A   WHITE HANGING HEART T-LIGHT HOLDER   \n",
      "1            1    536365     71053                  WHITE METAL LANTERN   \n",
      "2            2    536365    84406B       CREAM CUPID HEARTS COAT HANGER   \n",
      "3            3    536365    84029G  KNITTED UNION FLAG HOT WATER BOTTLE   \n",
      "4            4    536365    84029E       RED WOOLLY HOTTIE WHITE HEART.   \n",
      "...        ...       ...       ...                                  ...   \n",
      "406824  541904    581587     22613          PACK OF 20 SPACEBOY NAPKINS   \n",
      "406825  541905    581587     22899         CHILDREN'S APRON DOLLY GIRL    \n",
      "406826  541906    581587     23254        CHILDRENS CUTLERY DOLLY GIRL    \n",
      "406827  541907    581587     23255      CHILDRENS CUTLERY CIRCUS PARADE   \n",
      "406828  541908    581587     22138        BAKING SET 9 PIECE RETROSPOT    \n",
      "\n",
      "        Quantity         InvoiceDate  UnitPrice  CustomerID         Country  \n",
      "0              6 2010-12-01 08:26:00       2.55     17850.0  United Kingdom  \n",
      "1              6 2010-12-01 08:26:00       3.39     17850.0  United Kingdom  \n",
      "2              8 2010-12-01 08:26:00       2.75     17850.0  United Kingdom  \n",
      "3              6 2010-12-01 08:26:00       3.39     17850.0  United Kingdom  \n",
      "4              6 2010-12-01 08:26:00       3.39     17850.0  United Kingdom  \n",
      "...          ...                 ...        ...         ...             ...  \n",
      "406824        12 2011-12-09 12:50:00       0.85     12680.0          France  \n",
      "406825         6 2011-12-09 12:50:00       2.10     12680.0          France  \n",
      "406826         4 2011-12-09 12:50:00       4.15     12680.0          France  \n",
      "406827         4 2011-12-09 12:50:00       4.15     12680.0          France  \n",
      "406828         3 2011-12-09 12:50:00       4.95     12680.0          France  \n",
      "\n",
      "[406829 rows x 9 columns]\n",
      "去除退货记录之后数据为：          index InvoiceNo StockCode                          Description  \\\n",
      "0            0    536365    85123A   WHITE HANGING HEART T-LIGHT HOLDER   \n",
      "1            1    536365     71053                  WHITE METAL LANTERN   \n",
      "2            2    536365    84406B       CREAM CUPID HEARTS COAT HANGER   \n",
      "3            3    536365    84029G  KNITTED UNION FLAG HOT WATER BOTTLE   \n",
      "4            4    536365    84029E       RED WOOLLY HOTTIE WHITE HEART.   \n",
      "...        ...       ...       ...                                  ...   \n",
      "406824  541904    581587     22613          PACK OF 20 SPACEBOY NAPKINS   \n",
      "406825  541905    581587     22899         CHILDREN'S APRON DOLLY GIRL    \n",
      "406826  541906    581587     23254        CHILDRENS CUTLERY DOLLY GIRL    \n",
      "406827  541907    581587     23255      CHILDRENS CUTLERY CIRCUS PARADE   \n",
      "406828  541908    581587     22138        BAKING SET 9 PIECE RETROSPOT    \n",
      "\n",
      "        Quantity         InvoiceDate  UnitPrice  CustomerID         Country  \n",
      "0              6 2010-12-01 08:26:00       2.55     17850.0  United Kingdom  \n",
      "1              6 2010-12-01 08:26:00       3.39     17850.0  United Kingdom  \n",
      "2              8 2010-12-01 08:26:00       2.75     17850.0  United Kingdom  \n",
      "3              6 2010-12-01 08:26:00       3.39     17850.0  United Kingdom  \n",
      "4              6 2010-12-01 08:26:00       3.39     17850.0  United Kingdom  \n",
      "...          ...                 ...        ...         ...             ...  \n",
      "406824        12 2011-12-09 12:50:00       0.85     12680.0          France  \n",
      "406825         6 2011-12-09 12:50:00       2.10     12680.0          France  \n",
      "406826         4 2011-12-09 12:50:00       4.15     12680.0          France  \n",
      "406827         4 2011-12-09 12:50:00       4.15     12680.0          France  \n",
      "406828         3 2011-12-09 12:50:00       4.95     12680.0          France  \n",
      "\n",
      "[397924 rows x 9 columns]\n"
     ]
    }
   ],
   "source": [
    "###数据清洗\n",
    "#加载OnlineRetail数据集\n",
    "Datas=pd.read_excel(\"Online Retail.xlsx\")\n",
    "print(\"原数据为：\",Datas)\n",
    "#去除包含缺失值的交易记录\n",
    "# Datas=Datas.dropna()\n",
    "Datas.dropna(inplace=True)\n",
    "Datas.reset_index(inplace=True)#更新Datas的索引\n",
    "print(\"去除包含缺失值的交易记录之后数据为：\",Datas)\n",
    "#去除退货记录\n",
    "Datas=Datas[Datas[\"Quantity\"]>=0]\n",
    "print(\"去除退货记录之后数据为：\",Datas)"
   ]
  },
  {
   "cell_type": "code",
   "execution_count": 39,
   "id": "b2f7f7b0-5034-466e-ab3b-90befa90e5b9",
   "metadata": {},
   "outputs": [
    {
     "name": "stdout",
     "output_type": "stream",
     "text": [
      "每个用户的总购买金额为：\n",
      "             mul_price\n",
      "CustomerID           \n",
      "12346.0      77183.60\n",
      "12347.0       4310.00\n",
      "12348.0       1797.24\n",
      "12349.0       1757.55\n",
      "12350.0        334.40\n",
      "...               ...\n",
      "18280.0        180.60\n",
      "18281.0         80.82\n",
      "18282.0        178.05\n",
      "18283.0       2094.88\n",
      "18287.0       1837.28\n",
      "\n",
      "[4339 rows x 1 columns]\n",
      "每个用户的购买次数为：\n",
      " CustomerID\n",
      "17841.0    7847\n",
      "14911.0    5677\n",
      "14096.0    5111\n",
      "12748.0    4596\n",
      "14606.0    2700\n",
      "           ... \n",
      "15313.0       1\n",
      "17846.0       1\n",
      "13185.0       1\n",
      "16953.0       1\n",
      "16737.0       1\n",
      "Name: count, Length: 4339, dtype: int64\n"
     ]
    }
   ],
   "source": [
    "###数据集成\n",
    "# 计算每个用户的总购买金额\n",
    "group=Datas.groupby(\"CustomerID\")\n",
    "# price_sum=group[\"UnitPrice\"].sum()#这里一开始写错了忘了还有Quantity的存在\n",
    "new_data=Datas[[\"CustomerID\"]].copy()\n",
    "new_data[\"mul_price\"]=Datas[\"UnitPrice\"]*Datas[\"Quantity\"]\n",
    "price_sum=new_data.groupby(\"CustomerID\").sum()\n",
    "print(\"每个用户的总购买金额为：\\n\",price_sum)\n",
    "# 计算每个用户的购买次数\n",
    "count=Datas[\"CustomerID\"].value_counts()\n",
    "print(\"每个用户的购买次数为：\\n\",count)"
   ]
  },
  {
   "cell_type": "code",
   "execution_count": 40,
   "id": "29b321d7-a58e-48c8-8746-03eb21705fe3",
   "metadata": {
    "scrolled": true
   },
   "outputs": [
    {
     "name": "stdout",
     "output_type": "stream",
     "text": [
      "经过归一化处理之后用户的总购买金额与购买次数为：\n",
      "             standard_price  standard_count\n",
      "CustomerID                                \n",
      "12346.0           8.358671       -0.396466\n",
      "12347.0           0.251017        0.394642\n",
      "12348.0          -0.028543       -0.265343\n",
      "12349.0          -0.032959       -0.081771\n",
      "12350.0          -0.191293       -0.326534\n",
      "...                    ...             ...\n",
      "18280.0          -0.208405       -0.357130\n",
      "18281.0          -0.219506       -0.370242\n",
      "18282.0          -0.208688       -0.348388\n",
      "18283.0           0.004571        2.903462\n",
      "18287.0          -0.024088       -0.094884\n",
      "\n",
      "[4339 rows x 2 columns]\n"
     ]
    }
   ],
   "source": [
    "###数据变换——将用户的总购买金额和购买次数进行标准化处理。\n",
    "#将用户的总购买金额归一化，这里统一使用z-score方法\n",
    "mean=price_sum[\"mul_price\"].mean()\n",
    "std=price_sum[\"mul_price\"].std()\n",
    "price_sum[\"standard_price\"]=(price_sum[\"mul_price\"]-mean)/std\n",
    "#将用户的购买次数归一化处理\n",
    "price_sum=pd.merge(price_sum,count,on=\"CustomerID\")\n",
    "mean=price_sum[\"count\"].mean()\n",
    "std=price_sum[\"count\"].std()\n",
    "price_sum[\"standard_count\"]=(price_sum[\"count\"]-mean)/std\n",
    "print(\"经过归一化处理之后用户的总购买金额与购买次数为：\\n\",price_sum[[\"standard_price\",\"standard_count\"]])"
   ]
  },
  {
   "cell_type": "code",
   "execution_count": null,
   "id": "72c63f77-88f7-4b2e-a098-0107434240c9",
   "metadata": {},
   "outputs": [],
   "source": []
  },
  {
   "cell_type": "code",
   "execution_count": null,
   "id": "732e8e6d-e00a-47e2-8fe8-69c051466c2b",
   "metadata": {},
   "outputs": [],
   "source": []
  },
  {
   "cell_type": "code",
   "execution_count": null,
   "id": "eeba0f30-fac7-40a1-9967-c85c0203f6de",
   "metadata": {},
   "outputs": [],
   "source": []
  },
  {
   "cell_type": "code",
   "execution_count": null,
   "id": "410d6c01-4261-43c2-b939-6c383838469d",
   "metadata": {},
   "outputs": [],
   "source": []
  },
  {
   "cell_type": "code",
   "execution_count": null,
   "id": "c8428d52-2866-40e2-8da1-70d772fb886f",
   "metadata": {},
   "outputs": [],
   "source": []
  },
  {
   "cell_type": "code",
   "execution_count": 58,
   "id": "d892f4b0-06f6-4da7-b252-cb3311c40716",
   "metadata": {},
   "outputs": [],
   "source": [
    "#####使用PCA对词向量进行降维和可视化\n",
    "import matplotlib.pyplot as plt\n",
    "import numpy as np\n",
    "import pandas as pd\n",
    "from sklearn.decomposition import PCA"
   ]
  },
  {
   "cell_type": "code",
   "execution_count": 59,
   "id": "8af18e72-0c21-426e-a2fa-93172c27c41c",
   "metadata": {},
   "outputs": [],
   "source": [
    "# 加载预训练的GloVe词向量\n",
    "def load_glove_embeddings(filepath):\n",
    "   embeddings = {}\n",
    "   with open(filepath, 'r', encoding='utf-8') as f:\n",
    "       for line in f:\n",
    "           values = line.split()\n",
    "           word = values[0]\n",
    "           vector = np.array(values[1:], dtype='float32')\n",
    "           embeddings[word] = vector\n",
    "   return embeddings\n",
    "glove_path = ['subset_glove.6B.50d.txt','subset_glove.6B.100d.txt',\n",
    "             'subset_glove.6B.200d.txt','subset_glove.6B.300d.txt']\n",
    "embeddings = [load_glove_embeddings(i) for i in glove_path]"
   ]
  },
  {
   "cell_type": "code",
   "execution_count": 57,
   "id": "8b8ecbc4-598d-47e3-bafb-37693f355857",
   "metadata": {
    "scrolled": true
   },
   "outputs": [
    {
     "data": {
      "image/png": "[encoded data removed]",
      "text/plain": [
       "<Figure size 1200x700 with 4 Axes>"
      ]
     },
     "metadata": {},
     "output_type": "display_data"
    }
   ],
   "source": [
    "# 选择一组词并提取其词向量\n",
    "words = ['king', 'queen', 'man', 'woman', 'apple', 'orange', 'france', 'germany', 'paris', 'berlin']\n",
    "figure=plt.figure(figsize=(12, 7))\n",
    "for i in range(len(embeddings)):\n",
    "    data=embeddings[i]\n",
    "    path=glove_path[i]\n",
    "    # 初始化PCA并设置保留2个主成分\n",
    "    pca=PCA(n_components=2)#表明要保留2维\n",
    "    # 拟合数据\n",
    "    data=pd.DataFrame(data.values(),index=data.keys())\n",
    "    pca.fit(data)\n",
    "    # 转换数据\n",
    "    pca_data = pca.transform(data)\n",
    "    pca_data=pd.DataFrame(pca_data,index=data.index)\n",
    "    # print(pca_data)\n",
    "    # 绘制散点图，x轴为0列，y轴为1列，索引(词名字)作为标签\n",
    "    pca_data.plot.scatter(x=0, y=1, ax=plt.subplot(2, 2, i+1) , s=50 , color=\"purple\")\n",
    "    # 给子图重新命名\n",
    "    plt.title(path)\n",
    "    # 为每个点添加标签\n",
    "    for j in range(len(pca_data)):\n",
    "        plt.annotate(pca_data.index[j], (pca_data.iloc[j,0], pca_data.iloc[j,1]),\n",
    "                     textcoords=\"offset points\", xytext=(0,10), ha='center')\n",
    "plt.plot()\n",
    "plt.show()"
   ]
  },
  {
   "cell_type": "code",
   "execution_count": null,
   "id": "5b7fc9ed-d329-4545-88fb-2b57525988d1",
   "metadata": {},
   "outputs": [],
   "source": []
  },
  {
   "cell_type": "code",
   "execution_count": null,
   "id": "4376fe53-3c59-4afa-93f6-7b5c7fa150fa",
   "metadata": {},
   "outputs": [],
   "source": []
  },
  {
   "cell_type": "code",
   "execution_count": null,
   "id": "4ef64317-35ed-47e9-8de2-2655ec70944b",
   "metadata": {},
   "outputs": [],
   "source": []
  },
  {
   "cell_type": "code",
   "execution_count": null,
   "id": "f51e2f82-8c2b-46cd-9d51-2b8a55303d18",
   "metadata": {},
   "outputs": [],
   "source": []
  },
  {
   "cell_type": "code",
   "execution_count": null,
   "id": "d634a358-905a-4799-a9d2-5741d1f36870",
   "metadata": {},
   "outputs": [],
   "source": []
  },
  {
   "cell_type": "code",
   "execution_count": null,
   "id": "341e86f4-ded6-40ab-bd86-94f36c2ac69c",
   "metadata": {},
   "outputs": [],
   "source": []
  },
  {
   "cell_type": "code",
   "execution_count": null,
   "id": "614b5f5e-a76d-4d33-a213-e7ca9a0e8cd8",
   "metadata": {},
   "outputs": [],
   "source": []
  },
  {
   "cell_type": "code",
   "execution_count": 95,
   "id": "ac13053a-96c3-4c9b-bf5b-3c8d1dddf978",
   "metadata": {},
   "outputs": [],
   "source": [
    "######使用分类模型对手写数字数据集进行分类\n",
    "import numpy as np\n",
    "import pandas as pd\n",
    "from sklearn.datasets import load_digits#导入MNIST手写数字数据集\n",
    "from sklearn.neighbors import KNeighborsClassifier#这里使用K近邻KNN算法\n",
    "from sklearn.model_selection import train_test_split#这里导入分割数据集的函数\n",
    "from sklearn.metrics import classification_report, accuracy_score#这里用于报告评估模型的结果以及准确率\n",
    "from sklearn.preprocessing import StandardScaler#数据预处理进行标准化的函数\n",
    "# 加载数据\n",
    "digits = load_digits()\n",
    "X = digits.data\n",
    "Y = digits.target"
   ]
  },
  {
   "cell_type": "code",
   "execution_count": 96,
   "id": "b8301609-9cc3-4762-944b-1c887742fa9e",
   "metadata": {},
   "outputs": [
    {
     "name": "stdout",
     "output_type": "stream",
     "text": [
      "评估模型报告为：\n",
      "               precision    recall  f1-score   support\n",
      "\n",
      "           0       1.00      1.00      1.00        33\n",
      "           1       0.93      1.00      0.97        28\n",
      "           2       0.97      1.00      0.99        33\n",
      "           3       0.97      0.97      0.97        34\n",
      "           4       0.98      1.00      0.99        46\n",
      "           5       0.96      0.96      0.96        47\n",
      "           6       0.97      1.00      0.99        35\n",
      "           7       1.00      0.94      0.97        34\n",
      "           8       1.00      0.93      0.97        30\n",
      "           9       0.95      0.93      0.94        40\n",
      "\n",
      "    accuracy                           0.97       360\n",
      "   macro avg       0.97      0.97      0.97       360\n",
      "weighted avg       0.97      0.97      0.97       360\n",
      "\n",
      "最终正确率为：\n",
      " 0.9722222222222222\n"
     ]
    }
   ],
   "source": [
    "# 分割数据集\n",
    "X_train, X_test, Y_train, Y_test = train_test_split(X, Y, test_size=0.2, random_state=42)#test_size表示测试集数据占20%，random_state设置随机数生成器的种子保证每一次结果可以复现\n",
    "# 数据标准化\n",
    "scaler = StandardScaler()\n",
    "X_train = scaler.fit_transform(X_train)\n",
    "X_test = scaler.transform(X_test)\n",
    "# 创建KNN模型的实例\n",
    "KNN = KNeighborsClassifier(n_neighbors=9)\n",
    "# 训练模型\n",
    "KNN.fit(X_train, Y_train)\n",
    "# 预测\n",
    "Y_pred = KNN.predict(X_test)\n",
    "# 评估模型\n",
    "print(\"评估模型报告为：\\n\",classification_report(Y_test, Y_pred))\n",
    "print(\"最终正确率为：\\n\",accuracy_score(Y_test, Y_pred))"
   ]
  },
  {
   "cell_type": "code",
   "execution_count": 133,
   "id": "604672ee-7a4b-4582-9001-40b3a5a538bd",
   "metadata": {},
   "outputs": [
    {
     "name": "stdout",
     "output_type": "stream",
     "text": [
      "预测结果手写数字为： [6 3 1 3 9 1 7 6 8 4 3 1]\n",
      "真实结果手写数字为： [6 3 1 3 9 1 7 6 8 4 3 1]\n"
     ]
    }
   ],
   "source": [
    "#接下来使用训练好的模型进行预测         \n",
    "import random\n",
    "# num=random.randint(0,len(X))\n",
    "# x_data,y_data=X[num],Y[num]\n",
    "x_data=X[88:100]\n",
    "y_data=Y[88:100]\n",
    "x_data=scaler.fit_transform(x_data)#使用StandardScalar.fit_transform()函数进行标准化处理\n",
    "y_predict=KNN.predict(x_data)\n",
    "print(\"预测结果手写数字为：\",y_predict)\n",
    "print(\"真实结果手写数字为：\",y_data)"
   ]
  },
  {
   "cell_type": "code",
   "execution_count": null,
   "id": "498181dd-9167-4c7f-add3-14127618baba",
   "metadata": {},
   "outputs": [],
   "source": []
  },
  {
   "cell_type": "code",
   "execution_count": null,
   "id": "7465f70a-e353-45f2-87cf-6a6ef09fa33e",
   "metadata": {},
   "outputs": [],
   "source": []
  },
  {
   "cell_type": "code",
   "execution_count": null,
   "id": "85646d46-9b79-4166-a658-aad5a18ec599",
   "metadata": {},
   "outputs": [],
   "source": []
  },
  {
   "cell_type": "code",
   "execution_count": null,
   "id": "ff9459bc-a702-4190-819a-870567d5b226",
   "metadata": {},
   "outputs": [],
   "source": []
  },
  {
   "cell_type": "code",
   "execution_count": null,
   "id": "58cad095-99a7-42b2-a04e-496c92e75c49",
   "metadata": {},
   "outputs": [],
   "source": []
  },
  {
   "cell_type": "code",
   "execution_count": null,
   "id": "46b566b3-2659-4682-bf73-dc381a98ef69",
   "metadata": {},
   "outputs": [],
   "source": []
  },
  {
   "cell_type": "code",
   "execution_count": 233,
   "id": "ebd006c2-9476-4e03-a6d3-e801fe4d226b",
   "metadata": {},
   "outputs": [],
   "source": [
    "######使用分类模型对手写数字数据集进行分类（神经网络）\n",
    "import numpy as np\n",
    "import pandas as pd\n",
    "import torch\n",
    "import torch.nn as nn\n",
    "import torch.optim as optim\n",
    "from sklearn.datasets import load_digits#导入MNIST手写数字数据集\n",
    "from torch.utils.data import DataLoader, Dataset\n",
    "#定义聚合数据集的类CustomDataset\n",
    "class CustomDataset(Dataset):\n",
    "    def __init__(self,datas,labels):\n",
    "        # 假设有一些自定义的数据\n",
    "        self.data = torch.tensor(datas, dtype=torch.float32)\n",
    "        self.targets = torch.tensor(labels, dtype=torch.long)\n",
    "        self.mean = self.data.mean()\n",
    "        self.std = self.data.std()\n",
    "    def __len__(self):\n",
    "        return len(self.targets)\n",
    "    def __getitem__(self, index):\n",
    "        # x = self.data[index]\n",
    "        # y = self.targets[index]\n",
    "        x = (self.data[index] - self.mean) / self.std\n",
    "        y = self.targets[index]\n",
    "        return x, y\n",
    "# 定义神经网络类\n",
    "class NetWork(nn.Module):\n",
    "    def __init__(self):\n",
    "        super(NetWork, self).__init__()\n",
    "        self.fc1 = nn.Linear(64, 120)\n",
    "        self.fc2 = nn.Linear(120, 40)\n",
    "        self.fc3 = nn.Linear(40, 20)\n",
    "        self.fc4 = nn.Linear(20, 10)\n",
    "        self.logsoftmax = nn.LogSoftmax(dim=1)  # 使用LogSoftmax激活函数最后选出概率最大的那个类别\n",
    "    def forward(self, x):\n",
    "        x = torch.relu(self.fc1(x))\n",
    "        x = torch.relu(self.fc2(x))\n",
    "        x = torch.relu(self.fc3(x))\n",
    "        x = torch.relu(self.fc4(x))\n",
    "        x = self.logsoftmax(x)  # 使用LogSoftmax\n",
    "        return x\n",
    "# 加载数据\n",
    "digits = load_digits()\n",
    "X = digits.data\n",
    "Y = digits.target\n",
    "# 实例化自定义数据集\n",
    "dataset = CustomDataset(X,Y)\n",
    "# 创建数据加载器\n",
    "dataloader = DataLoader(dataset=dataset, batch_size=64, shuffle=True)\n",
    "net = NetWork()\n",
    "# 损失函数和优化器\n",
    "criterion = nn.CrossEntropyLoss()  # 使用CrossEntropyLoss交叉损失函数\n",
    "optimizer = optim.Adam(net.parameters(), lr=0.001)# 使用Adam优化器\n",
    "# optimizer = optim.SGD(net.parameters(), lr=0.0001, momentum=0.9)# 使用SGD优化器"
   ]
  },
  {
   "cell_type": "code",
   "execution_count": 234,
   "id": "ca4f646e-2d86-4a70-bae8-e2b2e37038c4",
   "metadata": {},
   "outputs": [
    {
     "name": "stdout",
     "output_type": "stream",
     "text": [
      "Epoch 1, Loss: 2.0019595623016357\n",
      "Epoch 2, Loss: 0.9598581194877625\n",
      "Epoch 3, Loss: 1.2117253541946411\n",
      "Epoch 4, Loss: 0.8156441450119019\n",
      "Epoch 5, Loss: 0.48463693261146545\n",
      "Epoch 6, Loss: 0.5216272473335266\n",
      "Epoch 7, Loss: 0.06813482940196991\n",
      "Epoch 8, Loss: 0.1380595862865448\n",
      "Epoch 9, Loss: 0.4860570430755615\n",
      "Epoch 10, Loss: 1.6058986186981201\n",
      "Epoch 11, Loss: 0.047945715487003326\n",
      "Epoch 12, Loss: 0.3741567134857178\n",
      "Epoch 13, Loss: 1.0206555128097534\n",
      "Epoch 14, Loss: 0.4622361660003662\n",
      "Epoch 15, Loss: 0.46799716353416443\n",
      "Epoch 16, Loss: 0.02556316927075386\n",
      "Epoch 17, Loss: 0.0068334429524838924\n",
      "Epoch 18, Loss: 0.4616314768791199\n",
      "Epoch 19, Loss: 0.4623270630836487\n",
      "Epoch 20, Loss: 0.9260327219963074\n",
      "Epoch 21, Loss: 0.7099568843841553\n",
      "Epoch 22, Loss: 0.9210818409919739\n",
      "Epoch 23, Loss: 0.921483039855957\n",
      "Epoch 24, Loss: 0.47928518056869507\n",
      "Epoch 25, Loss: 0.4695407450199127\n",
      "Epoch 26, Loss: 0.9211742281913757\n",
      "Epoch 27, Loss: 0.00016786440392024815\n",
      "Epoch 28, Loss: 0.4622800946235657\n",
      "Epoch 29, Loss: 1.2928025722503662\n",
      "Epoch 30, Loss: 0.6171734929084778\n",
      "Accuracy of the network: 88.5920979410128%\n"
     ]
    }
   ],
   "source": [
    "# 训练网络\n",
    "for epoch in range(30):\n",
    "    for inputs, labels in dataloader:\n",
    "        optimizer.zero_grad()# 清零梯度\n",
    "        outputs = net(inputs)# 前向传播\n",
    "        # labels = labels.unsqueeze(1)  # 将 labels 视为列向量\n",
    "        loss = criterion(outputs, labels)# 计算损失\n",
    "        loss.backward()# 反向传播\n",
    "        optimizer.step()# 更新权重\n",
    "    print(f'Epoch {epoch+1}, Loss: {loss.item()}')\n",
    "# 测试网络\n",
    "net.eval()\n",
    "with torch.no_grad():\n",
    "    correct = 0\n",
    "    total = 0\n",
    "    for inputs, labels in dataloader:\n",
    "        outputs = net(inputs)\n",
    "        _, predicted = torch.max(outputs.data, 1)\n",
    "        total += labels.size(0)\n",
    "        # print(\"标签为：\",labels)\n",
    "        # print(\"预测为：\",predicted)\n",
    "        correct += (predicted == labels).sum().item()\n",
    "    print(f'Accuracy of the network: {100 * correct / total}%')"
   ]
  },
  {
   "cell_type": "code",
   "execution_count": null,
   "id": "af104bbd-755e-497f-b029-ccbf38742308",
   "metadata": {},
   "outputs": [],
   "source": []
  },
  {
   "cell_type": "code",
   "execution_count": null,
   "id": "ac11bf3f-bef4-4775-85a6-2fe39f195fac",
   "metadata": {},
   "outputs": [],
   "source": []
  },
  {
   "cell_type": "code",
   "execution_count": null,
   "id": "47fc7637-b9f4-410e-a6aa-71b4c27fd24a",
   "metadata": {},
   "outputs": [],
   "source": []
  },
  {
   "cell_type": "code",
   "execution_count": null,
   "id": "6ba605a8-2660-43ee-bcf5-a95e7381d23e",
   "metadata": {},
   "outputs": [],
   "source": []
  },
  {
   "cell_type": "code",
   "execution_count": null,
   "id": "3d511a08-5d30-4293-9ed9-ae5e315d4aad",
   "metadata": {},
   "outputs": [],
   "source": []
  },
  {
   "cell_type": "code",
   "execution_count": null,
   "id": "7cae8169-0d6e-4cf1-9dd8-e42a5cc4ac0f",
   "metadata": {},
   "outputs": [],
   "source": []
  },
  {
   "cell_type": "code",
   "execution_count": null,
   "id": "11ca589d-05f2-4e84-b26b-d830162ec7c5",
   "metadata": {},
   "outputs": [],
   "source": []
  },
  {
   "cell_type": "code",
   "execution_count": null,
   "id": "9f68e904-aa6a-4e49-bc71-6728088e6009",
   "metadata": {},
   "outputs": [],
   "source": []
  }
 ],
 "metadata": {
  "kernelspec": {
   "display_name": "Python 3 (ipykernel)",
   "language": "python",
   "name": "python3"
  },
  "language_info": {
   "codemirror_mode": {
    "name": "ipython",
    "version": 3
   },
   "file_extension": ".py",
   "mimetype": "text/x-python",
   "name": "python",
   "nbconvert_exporter": "python",
   "pygments_lexer": "ipython3",
   "version": "3.11.5"
  }
 },
 "nbformat": 4,
 "nbformat_minor": 5
}
