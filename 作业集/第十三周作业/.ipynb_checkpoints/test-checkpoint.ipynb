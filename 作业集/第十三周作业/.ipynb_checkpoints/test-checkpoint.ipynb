{
 "cells": [
  {
   "cell_type": "code",
   "execution_count": 3,
   "id": "438dc003-b5ad-4ac0-b469-1eb9f119ebd2",
   "metadata": {},
   "outputs": [
    {
     "name": "stdout",
     "output_type": "stream",
     "text": [
      "<class 'pandas.core.frame.DataFrame'>\n",
      "RangeIndex: 44 entries, 0 to 43\n",
      "Data columns (total 3 columns):\n",
      " #   Column   Non-Null Count  Dtype  \n",
      "---  ------   --------------  -----  \n",
      " 0   dataset  44 non-null     object \n",
      " 1   x        44 non-null     float64\n",
      " 2   y        44 non-null     float64\n",
      "dtypes: float64(2), object(1)\n",
      "memory usage: 1.2+ KB\n",
      "None\n",
      "               x          y\n",
      "count  44.000000  44.000000\n",
      "mean    9.000000   7.500682\n",
      "std     3.198837   1.958925\n",
      "min     4.000000   3.100000\n",
      "25%     7.000000   6.117500\n",
      "50%     8.000000   7.520000\n",
      "75%    11.000000   8.747500\n",
      "max    19.000000  12.740000\n",
      "DataFrame的数据个数为： dataset    44\n",
      "x          44\n",
      "y          44\n",
      "dtype: int64\n"
     ]
    }
   ],
   "source": [
    "import seaborn as sns\n",
    "import pandas as pd\n",
    "import numpy as np\n",
    "a = pd.read_csv(\"E:/数据集合集/seaborn-data/anscombe.csv\")\n",
    "print(a.info())\n",
    "print(a.describe())\n",
    "print(\"DataFrame的数据个数为：\",a.count())"
   ]
  },
  {
   "cell_type": "code",
   "execution_count": 5,
   "id": "7e393b23-b6b2-4dc3-b46c-16f2b7969f72",
   "metadata": {},
   "outputs": [
    {
     "data": {
      "text/html": [
       "<div>\n",
       "<style scoped>\n",
       "    .dataframe tbody tr th:only-of-type {\n",
       "        vertical-align: middle;\n",
       "    }\n",
       "\n",
       "    .dataframe tbody tr th {\n",
       "        vertical-align: top;\n",
       "    }\n",
       "\n",
       "    .dataframe thead th {\n",
       "        text-align: right;\n",
       "    }\n",
       "</style>\n",
       "<table border=\"1\" class=\"dataframe\">\n",
       "  <thead>\n",
       "    <tr style=\"text-align: right;\">\n",
       "      <th></th>\n",
       "      <th>草</th>\n",
       "      <th>东</th>\n",
       "      <th>没</th>\n",
       "      <th>有</th>\n",
       "      <th>派</th>\n",
       "      <th>对</th>\n",
       "    </tr>\n",
       "  </thead>\n",
       "  <tbody>\n",
       "    <tr>\n",
       "      <th>我</th>\n",
       "      <td>0</td>\n",
       "      <td>1</td>\n",
       "      <td>2</td>\n",
       "      <td>3</td>\n",
       "      <td>4</td>\n",
       "      <td>5</td>\n",
       "    </tr>\n",
       "    <tr>\n",
       "      <th>爱</th>\n",
       "      <td>6</td>\n",
       "      <td>7</td>\n",
       "      <td>8</td>\n",
       "      <td>9</td>\n",
       "      <td>10</td>\n",
       "      <td>11</td>\n",
       "    </tr>\n",
       "    <tr>\n",
       "      <th>南</th>\n",
       "      <td>12</td>\n",
       "      <td>13</td>\n",
       "      <td>14</td>\n",
       "      <td>15</td>\n",
       "      <td>16</td>\n",
       "      <td>17</td>\n",
       "    </tr>\n",
       "    <tr>\n",
       "      <th>京</th>\n",
       "      <td>18</td>\n",
       "      <td>19</td>\n",
       "      <td>20</td>\n",
       "      <td>21</td>\n",
       "      <td>22</td>\n",
       "      <td>23</td>\n",
       "    </tr>\n",
       "  </tbody>\n",
       "</table>\n",
       "</div>"
      ],
      "text/plain": [
       "    草   东   没   有   派   对\n",
       "我   0   1   2   3   4   5\n",
       "爱   6   7   8   9  10  11\n",
       "南  12  13  14  15  16  17\n",
       "京  18  19  20  21  22  23"
      ]
     },
     "execution_count": 5,
     "metadata": {},
     "output_type": "execute_result"
    }
   ],
   "source": [
    "arr=np.arange(0,24).reshape(4,6)\n",
    "df1=pd.DataFrame(arr,index=[\"我\",\"爱\",\"南\",\"京\"],columns=[\"草\",\"东\",\"没\",\"有\",\"派\",\"对\"])\n",
    "df1"
   ]
  },
  {
   "cell_type": "code",
   "execution_count": 18,
   "id": "e8936a84-a53e-49cc-9766-62ef39441471",
   "metadata": {},
   "outputs": [
    {
     "name": "stdout",
     "output_type": "stream",
     "text": [
      "left为：    key  lval\n",
      "0  foo     1\n",
      "1  bar     2\n",
      "2    A     3\n",
      "right为：    key  rval\n",
      "0  foo     4\n",
      "1  bar     5\n",
      "2    B     6\n"
     ]
    }
   ],
   "source": [
    "left = pd.DataFrame({\"key\": [\"foo\",\"bar\",\"A\"], \"lval\":[1, 2,3]})\n",
    "right = pd.DataFrame({\"key\": [\"foo\",\"bar\",\"B\"],\"rval\": [4, 5,6]})\n",
    "print(\"left为：\",left)\n",
    "print(\"right为：\",right)"
   ]
  },
  {
   "cell_type": "code",
   "execution_count": 17,
   "id": "4f55ba57-6ad9-4687-beb7-75709ed9ddd1",
   "metadata": {},
   "outputs": [],
   "source": [
    "a=pd.merge(left,right)\n",
    "b=pd.merge(left,right,on=\"key\")"
   ]
  },
  {
   "cell_type": "code",
   "execution_count": null,
   "id": "91d9ca4e-2102-411e-bca5-71d382e6309f",
   "metadata": {},
   "outputs": [],
   "source": []
  },
  {
   "cell_type": "code",
   "execution_count": null,
   "id": "0c14c64b-5d71-4e0a-af10-e731dc2c8dc7",
   "metadata": {},
   "outputs": [],
   "source": []
  }
 ],
 "metadata": {
  "kernelspec": {
   "display_name": "Python 3 (ipykernel)",
   "language": "python",
   "name": "python3"
  },
  "language_info": {
   "codemirror_mode": {
    "name": "ipython",
    "version": 3
   },
   "file_extension": ".py",
   "mimetype": "text/x-python",
   "name": "python",
   "nbconvert_exporter": "python",
   "pygments_lexer": "ipython3",
   "version": "3.11.5"
  }
 },
 "nbformat": 4,
 "nbformat_minor": 5
}
