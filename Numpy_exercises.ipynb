{
 "cells": [
  {
   "cell_type": "markdown",
   "metadata": {},
   "source": [
    "# Numpy exercises"
   ]
  },
  {
   "cell_type": "markdown",
   "metadata": {},
   "source": [
    "#### 1. Print the numpy version and the configuration (★☆☆) "
   ]
  },
  {
   "cell_type": "code",
   "execution_count": 2,
   "metadata": {},
   "outputs": [
    {
     "data": {
      "text/plain": [
       "'1.24.3'"
      ]
     },
     "execution_count": 2,
     "metadata": {},
     "output_type": "execute_result"
    }
   ],
   "source": [
    "import numpy as np\n",
    "np.__version__\n"
   ]
  },
  {
   "cell_type": "markdown",
   "metadata": {},
   "source": [
    "#### 2. Create a zero vector of size 10 (★☆☆) "
   ]
  },
  {
   "cell_type": "code",
   "execution_count": 4,
   "metadata": {},
   "outputs": [
    {
     "data": {
      "text/plain": [
       "array([0., 0., 0., 0., 0., 0., 0., 0., 0., 0.])"
      ]
     },
     "execution_count": 4,
     "metadata": {},
     "output_type": "execute_result"
    }
   ],
   "source": [
    "import numpy as np\n",
    "arr=np.zeros(10,)\n",
    "arr"
   ]
  },
  {
   "cell_type": "markdown",
   "metadata": {},
   "source": [
    "#### 3. How to find the memory size of any array (★☆☆) "
   ]
  },
  {
   "cell_type": "code",
   "execution_count": 9,
   "metadata": {},
   "outputs": [
    {
     "name": "stdout",
     "output_type": "stream",
     "text": [
      "arr数组的大小为 80 B\n",
      "arr数组的大小为 0.078125 KB\n"
     ]
    }
   ],
   "source": [
    "print(\"arr数组的大小为\",arr.nbytes,\"B\")\n",
    "print(\"arr数组的大小为\",arr.nbytes/1024,\"KB\")"
   ]
  },
  {
   "cell_type": "markdown",
   "metadata": {},
   "source": [
    "#### 4.Create a vector with values ranging from 10 to 49 (★☆☆) "
   ]
  },
  {
   "cell_type": "code",
   "execution_count": 21,
   "metadata": {},
   "outputs": [
    {
     "data": {
      "text/plain": [
       "array([[[10, 11, 12, 13, 14],\n",
       "        [15, 16, 17, 18, 19],\n",
       "        [20, 21, 22, 23, 24],\n",
       "        [25, 26, 27, 28, 29]],\n",
       "\n",
       "       [[30, 31, 32, 33, 34],\n",
       "        [35, 36, 37, 38, 39],\n",
       "        [40, 41, 42, 43, 44],\n",
       "        [45, 46, 47, 48, 49]]])"
      ]
     },
     "execution_count": 21,
     "metadata": {},
     "output_type": "execute_result"
    }
   ],
   "source": [
    "arr=np.arange(10,50).reshape(2,4,5)\n",
    "arr"
   ]
  },
  {
   "cell_type": "markdown",
   "metadata": {},
   "source": [
    "#### 5.Reverse a vector (first element becomes last) (★☆☆) "
   ]
  },
  {
   "cell_type": "code",
   "execution_count": 24,
   "metadata": {},
   "outputs": [
    {
     "data": {
      "text/plain": [
       "array([[[30, 31, 32, 33, 34],\n",
       "        [35, 36, 37, 38, 39],\n",
       "        [40, 41, 42, 43, 44],\n",
       "        [45, 46, 47, 48, 49]],\n",
       "\n",
       "       [[10, 11, 12, 13, 14],\n",
       "        [15, 16, 17, 18, 19],\n",
       "        [20, 21, 22, 23, 24],\n",
       "        [25, 26, 27, 28, 29]]])"
      ]
     },
     "execution_count": 24,
     "metadata": {},
     "output_type": "execute_result"
    }
   ],
   "source": [
    "arr=arr.reshape(40,)\n",
    "arr=arr[::-1]\n",
    "arr"
   ]
  },
  {
   "cell_type": "markdown",
   "metadata": {},
   "source": [
    "#### 6.Create a 3x3 matrix with values ranging from 0 to 8 (★☆☆) "
   ]
  },
  {
   "cell_type": "code",
   "execution_count": 25,
   "metadata": {},
   "outputs": [
    {
     "data": {
      "text/plain": [
       "array([[0, 1, 2],\n",
       "       [3, 4, 5],\n",
       "       [6, 7, 8]])"
      ]
     },
     "execution_count": 25,
     "metadata": {},
     "output_type": "execute_result"
    }
   ],
   "source": [
    "arr=np.arange(9).reshape(3,3)\n",
    "arr"
   ]
  },
  {
   "cell_type": "markdown",
   "metadata": {},
   "source": [
    "#### 7.Find indices of non-zero elements from \\[1,2,0,0,4,0\\] (★☆☆) "
   ]
  },
  {
   "cell_type": "code",
   "execution_count": 31,
   "metadata": {},
   "outputs": [
    {
     "data": {
      "text/plain": [
       "(array([0, 1, 4], dtype=int64),)"
      ]
     },
     "execution_count": 31,
     "metadata": {},
     "output_type": "execute_result"
    }
   ],
   "source": [
    "arr=[1,2,0,0,4,0]\n",
    "a=np.nonzero(arr)\n",
    "a"
   ]
  },
  {
   "cell_type": "markdown",
   "metadata": {},
   "source": [
    "#### 8.Create a 3x3 identity matrix (★☆☆) "
   ]
  },
  {
   "cell_type": "code",
   "execution_count": 34,
   "metadata": {},
   "outputs": [
    {
     "data": {
      "text/plain": [
       "array([[1., 0., 0.],\n",
       "       [0., 1., 0.],\n",
       "       [0., 0., 1.]])"
      ]
     },
     "execution_count": 34,
     "metadata": {},
     "output_type": "execute_result"
    }
   ],
   "source": [
    "arr=np.diag(np.ones(3))\n",
    "arr"
   ]
  },
  {
   "cell_type": "markdown",
   "metadata": {},
   "source": [
    "#### 9.Create a 3x3x3 array with random values (★☆☆) "
   ]
  },
  {
   "cell_type": "code",
   "execution_count": 36,
   "metadata": {},
   "outputs": [
    {
     "data": {
      "text/plain": [
       "array([[[0.78911676, 0.20043798, 0.18005148],\n",
       "        [0.01727764, 0.08353265, 0.79866709],\n",
       "        [0.92688011, 0.03376083, 0.1390298 ]],\n",
       "\n",
       "       [[0.15446432, 0.2655367 , 0.79830782],\n",
       "        [0.1391729 , 0.71368548, 0.48157458],\n",
       "        [0.65918308, 0.40444617, 0.76774639]],\n",
       "\n",
       "       [[0.14986743, 0.68725408, 0.40263635],\n",
       "        [0.25699262, 0.40252803, 0.45402925],\n",
       "        [0.03322877, 0.15228983, 0.30510183]]])"
      ]
     },
     "execution_count": 36,
     "metadata": {},
     "output_type": "execute_result"
    }
   ],
   "source": [
    "arr=np.random.rand(3,3,3)\n",
    "arr"
   ]
  },
  {
   "cell_type": "markdown",
   "metadata": {},
   "source": [
    "#### 10.Create a 10x10 array with random values and find the minimum and maximum values (★☆☆) "
   ]
  },
  {
   "cell_type": "code",
   "execution_count": 40,
   "metadata": {},
   "outputs": [
    {
     "name": "stdout",
     "output_type": "stream",
     "text": [
      "数组当中最小的元素为： 0.005915441662953436\n",
      "数组当中最大的元素为： 0.9724926589508385\n"
     ]
    }
   ],
   "source": [
    "arr=np.random.rand(10,10)\n",
    "print(\"数组当中最小的元素为：\",np.min(arr))\n",
    "print(\"数组当中最大的元素为：\",np.max(arr))"
   ]
  },
  {
   "cell_type": "markdown",
   "metadata": {},
   "source": [
    "#### 11. Create a 2d array with 1 on the border and 0 inside (★☆☆) "
   ]
  },
  {
   "cell_type": "code",
   "execution_count": 61,
   "metadata": {},
   "outputs": [
    {
     "data": {
      "text/plain": [
       "array([[1., 1., 1.],\n",
       "       [1., 0., 1.],\n",
       "       [1., 0., 1.],\n",
       "       [1., 0., 1.],\n",
       "       [1., 0., 1.],\n",
       "       [1., 0., 1.],\n",
       "       [1., 1., 1.]])"
      ]
     },
     "execution_count": 61,
     "metadata": {},
     "output_type": "execute_result"
    }
   ],
   "source": [
    "size=np.random.randint(2,20,size=(2,))\n",
    "arr=np.zeros((size[0],size[1]))\n",
    "# arr=np.zeros((10,10))\n",
    "arr[[0,-1],:]=1\n",
    "arr[:,[0,-1]]=1\n",
    "arr"
   ]
  },
  {
   "cell_type": "markdown",
   "metadata": {},
   "source": [
    "#### 12. What is the result of the following expression? (★☆☆) "
   ]
  },
  {
   "cell_type": "markdown",
   "metadata": {},
   "source": [
    "```python\n",
    "0 * np.nan\n",
    "np.nan == np.nan\n",
    "np.inf > np.nan\n",
    "np.nan - np.nan\n",
    "np.nan in set([np.nan])\n",
    "0.3 == 3 * 0.1\n",
    "```"
   ]
  },
  {
   "cell_type": "code",
   "execution_count": 60,
   "metadata": {},
   "outputs": [
    {
     "name": "stdout",
     "output_type": "stream",
     "text": [
      "nan\n",
      "False\n",
      "False\n",
      "nan\n",
      "True\n",
      "False\n"
     ]
    }
   ],
   "source": [
    "print(0 * np.nan)\n",
    "print(np.nan == np.nan)\n",
    "print(np.inf > np.nan)\n",
    "print(np.nan - np.nan)\n",
    "print(np.nan in set([np.nan]))\n",
    "print(0.3 == 3 * 0.1)"
   ]
  },
  {
   "cell_type": "markdown",
   "metadata": {},
   "source": [
    "#### 13. Create a 5x5 matrix with values 1,2,3,4,5 on the diagonal (★☆☆) "
   ]
  },
  {
   "cell_type": "code",
   "execution_count": 63,
   "metadata": {},
   "outputs": [
    {
     "data": {
      "text/plain": [
       "array([[1, 0, 0, 0, 0],\n",
       "       [0, 2, 0, 0, 0],\n",
       "       [0, 0, 3, 0, 0],\n",
       "       [0, 0, 0, 4, 0],\n",
       "       [0, 0, 0, 0, 5]])"
      ]
     },
     "execution_count": 63,
     "metadata": {},
     "output_type": "execute_result"
    }
   ],
   "source": [
    "arr=np.arange(1,6,dtype=np.int32)\n",
    "arr=np.diag(arr)\n",
    "arr"
   ]
  },
  {
   "cell_type": "markdown",
   "metadata": {},
   "source": [
    "#### 14. Consider a (6,7,8) shape array, what is the index (x,y,z) of the 100th element? "
   ]
  },
  {
   "cell_type": "code",
   "execution_count": 71,
   "metadata": {},
   "outputs": [
    {
     "data": {
      "text/plain": [
       "(1, 5, 4)"
      ]
     },
     "execution_count": 71,
     "metadata": {},
     "output_type": "execute_result"
    }
   ],
   "source": [
    "arr=np.arange(6*7*8).reshape(6,7,8)\n",
    "a=np.where(arr==100)\n",
    "a=(a[0].item(),a[1].item(),a[2].item())\n",
    "a"
   ]
  },
  {
   "cell_type": "markdown",
   "metadata": {},
   "source": [
    "#### 15. Normalize a 5x5 random matrix (★☆☆) "
   ]
  },
  {
   "cell_type": "code",
   "execution_count": 83,
   "metadata": {},
   "outputs": [
    {
     "data": {
      "text/plain": [
       "array([[0.50905444, 0.46727526, 0.41241509, 0.22032108, 0.89878758],\n",
       "       [0.28062885, 0.85501632, 0.5772346 , 0.94157575, 0.32794425],\n",
       "       [0.84348931, 0.1928631 , 0.40759339, 0.72839403, 0.60993288],\n",
       "       [0.47637601, 0.86321298, 0.35087856, 0.9495871 , 0.44762856],\n",
       "       [0.        , 1.        , 0.05214383, 0.26620725, 0.37573465]])"
      ]
     },
     "execution_count": 83,
     "metadata": {},
     "output_type": "execute_result"
    }
   ],
   "source": [
    "arr=np.random.rand(5,5)\n",
    "min=arr.min()\n",
    "max=arr.max()\n",
    "arr=(arr-min)/(max-min)\n",
    "arr"
   ]
  },
  {
   "cell_type": "markdown",
   "metadata": {},
   "source": [
    "#### 16. Multiply a 5x3 matrix by a 3x2 matrix (real matrix product) (★☆☆) "
   ]
  },
  {
   "cell_type": "code",
   "execution_count": 73,
   "metadata": {},
   "outputs": [
    {
     "data": {
      "text/plain": [
       "array([[0.36337721, 0.30647464],\n",
       "       [0.99420423, 1.00930624],\n",
       "       [0.72609558, 0.86332929],\n",
       "       [0.89109506, 0.84484854],\n",
       "       [0.32473143, 0.24746778]])"
      ]
     },
     "execution_count": 73,
     "metadata": {},
     "output_type": "execute_result"
    }
   ],
   "source": [
    "arr1=np.random.rand(5,3)\n",
    "arr2=np.random.rand(3,2)\n",
    "res=np.matmul(arr1,arr2)\n",
    "res"
   ]
  },
  {
   "cell_type": "markdown",
   "metadata": {},
   "source": [
    "#### 17. Given a 1D array, negate all elements which are between 3 and 8, in place. (★☆☆) "
   ]
  },
  {
   "cell_type": "code",
   "execution_count": 85,
   "metadata": {},
   "outputs": [
    {
     "data": {
      "text/plain": [
       "array([0, 1, 0, 0, 0, 0, 0, 0, 8, 9])"
      ]
     },
     "execution_count": 85,
     "metadata": {},
     "output_type": "execute_result"
    }
   ],
   "source": [
    "arr=np.arange(0,10)\n",
    "arr[2:8]=0\n",
    "arr\n"
   ]
  },
  {
   "cell_type": "markdown",
   "metadata": {},
   "source": [
    "#### 18. What is the output of the following script? (★☆☆) "
   ]
  },
  {
   "cell_type": "markdown",
   "metadata": {},
   "source": [
    "```python\n",
    "# Author: Jake VanderPlas\n",
    "\n",
    "print(sum(range(5),-1))\n",
    "from numpy import *\n",
    "print(sum(range(5),-1))\n",
    "```"
   ]
  },
  {
   "cell_type": "code",
   "execution_count": 97,
   "metadata": {},
   "outputs": [
    {
     "name": "stdout",
     "output_type": "stream",
     "text": [
      "10\n",
      "10\n"
     ]
    }
   ],
   "source": [
    "print(sum(range(5),-1))\n",
    "from numpy import *\n",
    "print(sum(range(5),-1))\n",
    "# import numpy as np\n",
    "# a=np.sum(range(5),-1)\n",
    "# print(a)"
   ]
  },
  {
   "cell_type": "markdown",
   "metadata": {},
   "source": [
    "#### 19. Create a vector of size 10 with values ranging from 0 to 1, both excluded (★★☆) "
   ]
  },
  {
   "cell_type": "code",
   "execution_count": 98,
   "metadata": {},
   "outputs": [
    {
     "data": {
      "text/plain": [
       "array([0.        , 0.11111111, 0.22222222, 0.33333333, 0.44444444,\n",
       "       0.55555556, 0.66666667, 0.77777778, 0.88888889, 1.        ])"
      ]
     },
     "execution_count": 98,
     "metadata": {},
     "output_type": "execute_result"
    }
   ],
   "source": [
    "import numpy as np\n",
    "arr=np.linspace(0,1,10)\n",
    "arr"
   ]
  },
  {
   "cell_type": "markdown",
   "metadata": {},
   "source": [
    "#### 20. Create a random vector of size 10 and sort it (★★☆) "
   ]
  },
  {
   "cell_type": "code",
   "execution_count": 103,
   "metadata": {},
   "outputs": [
    {
     "data": {
      "text/plain": [
       "array([0.11528563, 0.22008702, 0.26246062, 0.28171446, 0.48722308,\n",
       "       0.49804984, 0.56590655, 0.59531886, 0.81700911, 0.96691412])"
      ]
     },
     "execution_count": 103,
     "metadata": {},
     "output_type": "execute_result"
    }
   ],
   "source": [
    "arr=np.random.rand(10,)\n",
    "arr.sort()\n",
    "arr"
   ]
  },
  {
   "cell_type": "markdown",
   "metadata": {},
   "source": [
    "#### 21. Create random vector of size 10 and replace the maximum value by 0 (★★☆) "
   ]
  },
  {
   "cell_type": "code",
   "execution_count": 119,
   "metadata": {},
   "outputs": [
    {
     "data": {
      "text/plain": [
       "array([0.46534642, 0.70458105, 0.41894599, 0.        , 0.13613882,\n",
       "       0.33452168, 0.83493854, 0.36003882, 0.65467995, 0.39093658])"
      ]
     },
     "execution_count": 119,
     "metadata": {},
     "output_type": "execute_result"
    }
   ],
   "source": [
    "arr=np.random.rand(10)\n",
    "a=np.where(arr==arr.max())\n",
    "arr[a]=0\n",
    "arr"
   ]
  },
  {
   "cell_type": "markdown",
   "metadata": {},
   "source": [
    "#### 22. How to convert a float (32 bits) array into an integer (32 bits) in place? "
   ]
  },
  {
   "cell_type": "code",
   "execution_count": 122,
   "metadata": {},
   "outputs": [
    {
     "data": {
      "text/plain": [
       "array([0, 1, 2, 3, 4, 5, 6, 7, 8, 9])"
      ]
     },
     "execution_count": 122,
     "metadata": {},
     "output_type": "execute_result"
    }
   ],
   "source": [
    "arr=np.arange(10,dtype=np.float32)\n",
    "arr=arr.astype(np.int32)\n",
    "arr"
   ]
  },
  {
   "cell_type": "markdown",
   "metadata": {},
   "source": [
    "#### 23. Subtract the mean of each row of a matrix (★★☆) "
   ]
  },
  {
   "cell_type": "code",
   "execution_count": 132,
   "metadata": {},
   "outputs": [
    {
     "name": "stdout",
     "output_type": "stream",
     "text": [
      "[[ 0.08300278 -0.43215828 -0.44352728 -0.0176896   0.22872961  0.02808384\n",
      "   0.31779669  0.5039273  -0.39354033  0.12537528]\n",
      " [-0.3022143   0.18775352 -0.36809224  0.01600467 -0.14610394  0.00497234\n",
      "  -0.14614758  0.26288175  0.39284813  0.09809764]\n",
      " [-0.18873368  0.14012314 -0.03544951  0.27680376 -0.11867419 -0.13641626\n",
      "  -0.33382624 -0.28232047  0.6408305   0.03766296]\n",
      " [-0.11670559  0.32054453  0.0278529   0.03948119  0.06975335 -0.34794175\n",
      "   0.10376906 -0.26708673 -0.13806388  0.30839692]\n",
      " [-0.03256231  0.05216811 -0.07838608  0.02281789 -0.06562983  0.13597925\n",
      "   0.41075294 -0.03804279 -0.12938223 -0.27771495]\n",
      " [-0.40389843 -0.47809422  0.19379164 -0.11264574  0.05981712  0.44429337\n",
      "   0.31225644 -0.20082473 -0.27027682  0.45558136]]\n"
     ]
    }
   ],
   "source": [
    "arr=np.random.rand(6,10)\n",
    "a=arr.mean(axis=1)\n",
    "a=a.repeat(10).reshape(6,10)\n",
    "print(arr-a)"
   ]
  },
  {
   "cell_type": "markdown",
   "metadata": {},
   "source": [
    "#### 24. How to sort an array by the nth column? (★★☆) "
   ]
  },
  {
   "cell_type": "code",
   "execution_count": 137,
   "metadata": {},
   "outputs": [
    {
     "name": "stdout",
     "output_type": "stream",
     "text": [
      "[3 4 2 1 0]\n",
      "arr数组为： [[0.64979371 0.94024713 0.98595276 0.6188794  0.02567355 0.91576283\n",
      "  0.74855935 0.3923419  0.7624043  0.7615707 ]\n",
      " [0.60428259 0.87234215 0.39154313 0.43263035 0.56365339 0.6671207\n",
      "  0.0678379  0.52983305 0.4651056  0.11293468]\n",
      " [0.69074692 0.66654498 0.66150696 0.25287098 0.49362394 0.25119661\n",
      "  0.4943825  0.38513936 0.77757695 0.7471077 ]\n",
      " [0.53433933 0.15367746 0.07937035 0.20413581 0.47384329 0.56946896\n",
      "  0.03702996 0.98172535 0.40128443 0.21402718]\n",
      " [0.68289355 0.57141207 0.42977668 0.23673931 0.90792939 0.38601644\n",
      "  0.86429778 0.53094644 0.24437026 0.52228575]]\n",
      "arr根据第n列排序之后为： [[0.53433933 0.15367746 0.07937035 0.20413581 0.47384329 0.56946896\n",
      "  0.03702996 0.98172535 0.40128443 0.21402718]\n",
      " [0.68289355 0.57141207 0.42977668 0.23673931 0.90792939 0.38601644\n",
      "  0.86429778 0.53094644 0.24437026 0.52228575]\n",
      " [0.69074692 0.66654498 0.66150696 0.25287098 0.49362394 0.25119661\n",
      "  0.4943825  0.38513936 0.77757695 0.7471077 ]\n",
      " [0.60428259 0.87234215 0.39154313 0.43263035 0.56365339 0.6671207\n",
      "  0.0678379  0.52983305 0.4651056  0.11293468]\n",
      " [0.64979371 0.94024713 0.98595276 0.6188794  0.02567355 0.91576283\n",
      "  0.74855935 0.3923419  0.7624043  0.7615707 ]]\n"
     ]
    }
   ],
   "source": [
    "arr=np.random.rand(5,10)\n",
    "n=1#对第2列排序\n",
    "a=arr[:,n].argsort()\n",
    "print(a)#对第2列根据大小索引进行排列\n",
    "print(\"arr数组为：\",arr)\n",
    "print(\"arr根据第n列排序之后为：\",arr[a])"
   ]
  },
  {
   "cell_type": "markdown",
   "metadata": {},
   "source": [
    "####  25. How to swap two rows of an array? (★★★) "
   ]
  },
  {
   "cell_type": "code",
   "execution_count": 139,
   "metadata": {},
   "outputs": [
    {
     "name": "stdout",
     "output_type": "stream",
     "text": [
      "交换顺序之前arr为： [[0.16004729 0.22531695 0.3148905  0.02176293 0.59530445 0.10208737\n",
      "  0.45873386 0.24692398 0.72136243 0.43734304]\n",
      " [0.26174298 0.76274337 0.69697162 0.27466929 0.29151722 0.64900619\n",
      "  0.45444785 0.87894881 0.29885211 0.49726425]\n",
      " [0.11932232 0.27406251 0.41085382 0.62379069 0.76839299 0.43218327\n",
      "  0.75375362 0.36179721 0.22400255 0.07429356]\n",
      " [0.67633891 0.46449596 0.71180351 0.33742997 0.74205097 0.22128461\n",
      "  0.58205767 0.5226391  0.38864823 0.15745791]\n",
      " [0.01519108 0.7589145  0.42141195 0.21052884 0.08866626 0.06274451\n",
      "  0.13717046 0.23587076 0.29755785 0.42016352]]\n",
      "交换顺序之后arr为： [[0.26174298 0.76274337 0.69697162 0.27466929 0.29151722 0.64900619\n",
      "  0.45444785 0.87894881 0.29885211 0.49726425]\n",
      " [0.16004729 0.22531695 0.3148905  0.02176293 0.59530445 0.10208737\n",
      "  0.45873386 0.24692398 0.72136243 0.43734304]\n",
      " [0.11932232 0.27406251 0.41085382 0.62379069 0.76839299 0.43218327\n",
      "  0.75375362 0.36179721 0.22400255 0.07429356]\n",
      " [0.67633891 0.46449596 0.71180351 0.33742997 0.74205097 0.22128461\n",
      "  0.58205767 0.5226391  0.38864823 0.15745791]\n",
      " [0.01519108 0.7589145  0.42141195 0.21052884 0.08866626 0.06274451\n",
      "  0.13717046 0.23587076 0.29755785 0.42016352]]\n"
     ]
    }
   ],
   "source": [
    "arr=np.random.rand(5,10)\n",
    "print(\"交换顺序之前arr为：\",arr)\n",
    "arr[[0,1],:]=arr[[1,0],:]\n",
    "print(\"交换顺序之后arr为：\",arr)"
   ]
  },
  {
   "cell_type": "markdown",
   "metadata": {},
   "source": [
    "#### 26. How to find the most frequent value in an array? "
   ]
  },
  {
   "cell_type": "code",
   "execution_count": 171,
   "metadata": {},
   "outputs": [
    {
     "data": {
      "text/plain": [
       "16"
      ]
     },
     "execution_count": 171,
     "metadata": {},
     "output_type": "execute_result"
    }
   ],
   "source": [
    "# arr=np.random.randint(100,size=10)\n",
    "# a=np.argmax(np.bincount(arr))\n",
    "# a\n",
    "arr=np.random.randint(0,100,size=100)\n",
    "arr=arr.astype(np.int32)\n",
    "a=np.argmax(np.bincount(arr))\n",
    "arr[a]"
   ]
  }
 ],
 "metadata": {
  "anaconda-cloud": {},
  "kernelspec": {
   "display_name": "Python 3 (ipykernel)",
   "language": "python",
   "name": "python3"
  },
  "language_info": {
   "codemirror_mode": {
    "name": "ipython",
    "version": 3
   },
   "file_extension": ".py",
   "mimetype": "text/x-python",
   "name": "python",
   "nbconvert_exporter": "python",
   "pygments_lexer": "ipython3",
   "version": "3.11.5"
  }
 },
 "nbformat": 4,
 "nbformat_minor": 4
}
