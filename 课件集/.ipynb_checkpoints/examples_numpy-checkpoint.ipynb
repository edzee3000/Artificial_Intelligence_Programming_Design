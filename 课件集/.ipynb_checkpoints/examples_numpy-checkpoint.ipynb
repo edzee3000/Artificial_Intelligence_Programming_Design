{
 "cells": [
  {
   "cell_type": "code",
   "execution_count": 2,
   "metadata": {},
   "outputs": [],
   "source": [
    "import numpy as np"
   ]
  },
  {
   "cell_type": "markdown",
   "metadata": {},
   "source": [
    "# 高维矩阵的存储"
   ]
  },
  {
   "cell_type": "code",
   "execution_count": 3,
   "metadata": {},
   "outputs": [
    {
     "name": "stdout",
     "output_type": "stream",
     "text": [
      "<class 'numpy.int32'>\n",
      "[[1 2 3]\n",
      " [4 5 6]]\n",
      "(2, 3)\n",
      "(12, 4)\n"
     ]
    }
   ],
   "source": [
    "def print_array(arr):\n",
    "    print(\"Element Type: \",arr.dtype)\n",
    "    print(\"Shape:   \",arr.shape)\n",
    "    print(\"Strides: \",arr.strides)\n",
    "    print(arr)\n",
    "    print()\n",
    "\n",
    "\n",
    "myarray = np.array([[1,2,3],[4,5,6]], dtype = \"int32\")\n",
    "print(type(myarray[0][0]))\n",
    "print(myarray)\n",
    "print(myarray.shape)\n",
    "print(myarray.strides)"
   ]
  },
  {
   "cell_type": "markdown",
   "metadata": {},
   "source": [
    "## ndarrays.strides"
   ]
  },
  {
   "cell_type": "code",
   "execution_count": 4,
   "metadata": {},
   "outputs": [
    {
     "name": "stdout",
     "output_type": "stream",
     "text": [
      "Element Type:  int32\n",
      "Shape:    (3, 2)\n",
      "Strides:  (4, 12)\n",
      "[[1 4]\n",
      " [2 5]\n",
      " [3 6]]\n",
      "\n",
      "Element Type:  int32\n",
      "Shape:    (2, 3)\n",
      "Strides:  (12, 4)\n",
      "[[1 2 3]\n",
      " [4 5 6]]\n",
      "\n"
     ]
    }
   ],
   "source": [
    "myT = myarray.T\n",
    "print_array(myT)\n",
    "print_array(myarray)"
   ]
  },
  {
   "cell_type": "code",
   "execution_count": 5,
   "metadata": {},
   "outputs": [
    {
     "name": "stdout",
     "output_type": "stream",
     "text": [
      "Element Type:  int32\n",
      "Shape:    (3, 2)\n",
      "Strides:  (8, 4)\n",
      "[[1 4]\n",
      " [2 5]\n",
      " [3 6]]\n",
      "\n"
     ]
    }
   ],
   "source": [
    "myarray2 = np.array([[1,4],[2,5],[3,6]], dtype = \"int32\")\n",
    "print_array(myarray2)"
   ]
  },
  {
   "cell_type": "code",
   "execution_count": 6,
   "metadata": {},
   "outputs": [
    {
     "name": "stdout",
     "output_type": "stream",
     "text": [
      "Element Type:  int64\n",
      "Shape:    (6,)\n",
      "Strides:  (8,)\n",
      "[1 2 3 4 5 6]\n",
      "\n",
      "Element Type:  int64\n",
      "Shape:    (2, 3)\n",
      "Strides:  (24, 8)\n",
      "[[1 2 3]\n",
      " [4 5 6]]\n",
      "\n",
      "Element Type:  int64\n",
      "Shape:    (3, 2)\n",
      "Strides:  (16, 8)\n",
      "[[1 2]\n",
      " [3 4]\n",
      " [5 6]]\n",
      "\n"
     ]
    }
   ],
   "source": [
    "data = np.arange(1, 7)\n",
    "print_array(data)\n",
    "\n",
    "data1 = np.arange(1, 7).reshape((2,3))\n",
    "print_array(data1)\n",
    "\n",
    "data2 = np.arange(1, 7).reshape((3,2))\n",
    "print_array(data2)"
   ]
  },
  {
   "cell_type": "markdown",
   "metadata": {},
   "source": [
    "## high dimensional arrays"
   ]
  },
  {
   "cell_type": "code",
   "execution_count": 7,
   "metadata": {},
   "outputs": [
    {
     "name": "stdout",
     "output_type": "stream",
     "text": [
      "Element Type:  int64\n",
      "Shape:    (18,)\n",
      "Strides:  (8,)\n",
      "[ 1  2  3  4  5  6  7  8  9 10 11 12 13 14 15 16 17 18]\n",
      "\n",
      "Element Type:  int64\n",
      "Shape:    (3, 2, 3)\n",
      "Strides:  (48, 24, 8)\n",
      "[[[ 1  2  3]\n",
      "  [ 4  5  6]]\n",
      "\n",
      " [[ 7  8  9]\n",
      "  [10 11 12]]\n",
      "\n",
      " [[13 14 15]\n",
      "  [16 17 18]]]\n",
      "\n",
      "Element Type:  int64\n",
      "Shape:    (3, 3, 2)\n",
      "Strides:  (48, 16, 8)\n",
      "[[[ 1  2]\n",
      "  [ 3  4]\n",
      "  [ 5  6]]\n",
      "\n",
      " [[ 7  8]\n",
      "  [ 9 10]\n",
      "  [11 12]]\n",
      "\n",
      " [[13 14]\n",
      "  [15 16]\n",
      "  [17 18]]]\n",
      "\n"
     ]
    }
   ],
   "source": [
    "data = np.arange(1, 19)\n",
    "print_array(data)\n",
    "\n",
    "data1 = np.arange(1, 19).reshape((3,2,3))\n",
    "print_array(data1)\n",
    "\n",
    "data2 = np.arange(1, 19).reshape((3,3,2))\n",
    "print_array(data2)"
   ]
  },
  {
   "cell_type": "code",
   "execution_count": 8,
   "metadata": {},
   "outputs": [
    {
     "name": "stdout",
     "output_type": "stream",
     "text": [
      "Element Type:  int64\n",
      "Shape:    (2, 3, 2, 3)\n",
      "Strides:  (144, 48, 24, 8)\n",
      "[[[[ 1  2  3]\n",
      "   [ 4  5  6]]\n",
      "\n",
      "  [[ 7  8  9]\n",
      "   [10 11 12]]\n",
      "\n",
      "  [[13 14 15]\n",
      "   [16 17 18]]]\n",
      "\n",
      "\n",
      " [[[19 20 21]\n",
      "   [22 23 24]]\n",
      "\n",
      "  [[25 26 27]\n",
      "   [28 29 30]]\n",
      "\n",
      "  [[31 32 33]\n",
      "   [34 35 36]]]]\n",
      "\n"
     ]
    }
   ],
   "source": [
    "data = np.arange(1,37).reshape(2,3,2,3)\n",
    "print_array(data)"
   ]
  },
  {
   "cell_type": "markdown",
   "metadata": {},
   "source": [
    "# creating ndarrays\n",
    "## from existing arrays"
   ]
  },
  {
   "cell_type": "code",
   "execution_count": 9,
   "metadata": {},
   "outputs": [
    {
     "data": {
      "text/plain": [
       "array([1, 2, 3, 4])"
      ]
     },
     "execution_count": 9,
     "metadata": {},
     "output_type": "execute_result"
    }
   ],
   "source": [
    "np.array([1, 2, 3, 4])"
   ]
  },
  {
   "cell_type": "code",
   "execution_count": 10,
   "metadata": {},
   "outputs": [
    {
     "name": "stdout",
     "output_type": "stream",
     "text": [
      "Element Type:  int64\n",
      "Shape:    (1, 4)\n",
      "Strides:  (8, 8)\n",
      "[[1 2 3 4]]\n",
      "\n"
     ]
    }
   ],
   "source": [
    "a1 = np.array([1, 2, 3, 4])\n",
    "a2 = np.array(a1, order = 'F', ndmin = 2)\n",
    "print_array(a2)"
   ]
  },
  {
   "cell_type": "markdown",
   "metadata": {},
   "source": [
    "## fill with elements"
   ]
  },
  {
   "cell_type": "code",
   "execution_count": 11,
   "metadata": {},
   "outputs": [
    {
     "data": {
      "text/plain": [
       "array([0., 0.])"
      ]
     },
     "execution_count": 11,
     "metadata": {},
     "output_type": "execute_result"
    }
   ],
   "source": [
    "np.zeros(2)"
   ]
  },
  {
   "cell_type": "code",
   "execution_count": 12,
   "metadata": {},
   "outputs": [
    {
     "data": {
      "text/plain": [
       "array([1., 1., 1.])"
      ]
     },
     "execution_count": 12,
     "metadata": {},
     "output_type": "execute_result"
    }
   ],
   "source": [
    "np.ones(3)"
   ]
  },
  {
   "cell_type": "code",
   "execution_count": 13,
   "metadata": {},
   "outputs": [
    {
     "data": {
      "text/plain": [
       "array([0.00e+000, 1.11e-321, 9.88e-324, 9.88e-324])"
      ]
     },
     "execution_count": 13,
     "metadata": {},
     "output_type": "execute_result"
    }
   ],
   "source": [
    "np.empty(4)"
   ]
  },
  {
   "cell_type": "code",
   "execution_count": 14,
   "metadata": {},
   "outputs": [
    {
     "data": {
      "text/plain": [
       "array([[1., 0., 0., 0., 0.],\n",
       "       [0., 1., 0., 0., 0.],\n",
       "       [0., 0., 1., 0., 0.],\n",
       "       [0., 0., 0., 1., 0.],\n",
       "       [0., 0., 0., 0., 1.]])"
      ]
     },
     "execution_count": 14,
     "metadata": {},
     "output_type": "execute_result"
    }
   ],
   "source": [
    "np.eye(5) #np.identity(5)"
   ]
  },
  {
   "cell_type": "code",
   "execution_count": 15,
   "metadata": {},
   "outputs": [
    {
     "data": {
      "text/plain": [
       "array([[1, 0, 0, 0],\n",
       "       [0, 2, 0, 0],\n",
       "       [0, 0, 3, 0],\n",
       "       [0, 0, 0, 4]])"
      ]
     },
     "execution_count": 15,
     "metadata": {},
     "output_type": "execute_result"
    }
   ],
   "source": [
    "np.diag(range(1,5))"
   ]
  },
  {
   "cell_type": "code",
   "execution_count": 16,
   "metadata": {},
   "outputs": [
    {
     "data": {
      "text/plain": [
       "array([1, 3, 5])"
      ]
     },
     "execution_count": 16,
     "metadata": {},
     "output_type": "execute_result"
    }
   ],
   "source": [
    "np.arange(1,6,2)"
   ]
  },
  {
   "cell_type": "code",
   "execution_count": 17,
   "metadata": {},
   "outputs": [
    {
     "data": {
      "text/plain": [
       "array([ 0. ,  2.5,  5. ,  7.5, 10. ])"
      ]
     },
     "execution_count": 17,
     "metadata": {},
     "output_type": "execute_result"
    }
   ],
   "source": [
    "np.linspace(0, 10, num=5)"
   ]
  },
  {
   "cell_type": "code",
   "execution_count": 18,
   "metadata": {},
   "outputs": [
    {
     "data": {
      "text/plain": [
       "array([  1.        ,   3.16227766,  10.        ,  31.6227766 ,\n",
       "       100.        ])"
      ]
     },
     "execution_count": 18,
     "metadata": {},
     "output_type": "execute_result"
    }
   ],
   "source": [
    "np.logspace(0, 2, 5)"
   ]
  },
  {
   "cell_type": "code",
   "execution_count": 19,
   "metadata": {},
   "outputs": [
    {
     "data": {
      "text/plain": [
       "[<matplotlib.lines.Line2D at 0x1173d3730>]"
      ]
     },
     "execution_count": 19,
     "metadata": {},
     "output_type": "execute_result"
    },
    {
     "data": {
      "image/png": "[encoded data removed]",
      "text/plain": [
       "<Figure size 432x288 with 1 Axes>"
      ]
     },
     "metadata": {
      "needs_background": "light"
     },
     "output_type": "display_data"
    }
   ],
   "source": [
    "import matplotlib.pyplot as plt\n",
    "\n",
    "x = range(0,100)\n",
    "#y = np.linspace(0, 10, num=5)\n",
    "y = np.logspace(0, 2, 100)\n",
    "plt.plot(x, y) # or simply plt.plot(y)"
   ]
  },
  {
   "cell_type": "code",
   "execution_count": 20,
   "metadata": {},
   "outputs": [
    {
     "data": {
      "text/plain": [
       "<matplotlib.collections.PathCollection at 0x1174c0fa0>"
      ]
     },
     "execution_count": 20,
     "metadata": {},
     "output_type": "execute_result"
    },
    {
     "data": {
      "image/png": "[encoded data removed]",
      "text/plain": [
       "<Figure size 432x288 with 1 Axes>"
      ]
     },
     "metadata": {
      "needs_background": "light"
     },
     "output_type": "display_data"
    }
   ],
   "source": [
    "plt.scatter(x, y)"
   ]
  },
  {
   "cell_type": "code",
   "execution_count": 21,
   "metadata": {},
   "outputs": [
    {
     "data": {
      "text/plain": [
       "[<matplotlib.lines.Line2D at 0x117549490>]"
      ]
     },
     "execution_count": 21,
     "metadata": {},
     "output_type": "execute_result"
    },
    {
     "data": {
      "image/png": "[encoded data removed]",
      "text/plain": [
       "<Figure size 432x288 with 1 Axes>"
      ]
     },
     "metadata": {
      "needs_background": "light"
     },
     "output_type": "display_data"
    }
   ],
   "source": [
    "plt.plot(y)"
   ]
  },
  {
   "cell_type": "code",
   "execution_count": 22,
   "metadata": {},
   "outputs": [
    {
     "data": {
      "text/plain": [
       "array([[0.87690348, 0.91258344],\n",
       "       [0.78465669, 0.1987518 ],\n",
       "       [0.55647661, 0.44880487]])"
      ]
     },
     "execution_count": 22,
     "metadata": {},
     "output_type": "execute_result"
    }
   ],
   "source": [
    "np.random.rand(3,2)"
   ]
  },
  {
   "cell_type": "code",
   "execution_count": 23,
   "metadata": {},
   "outputs": [
    {
     "data": {
      "text/plain": [
       "[<matplotlib.lines.Line2D at 0x1175b3040>]"
      ]
     },
     "execution_count": 23,
     "metadata": {},
     "output_type": "execute_result"
    },
    {
     "data": {
      "image/png": "[encoded data removed]",
      "text/plain": [
       "<Figure size 432x288 with 1 Axes>"
      ]
     },
     "metadata": {
      "needs_background": "light"
     },
     "output_type": "display_data"
    }
   ],
   "source": [
    "x = range(0, 100)\n",
    "y = np.random.rand(100)\n",
    "plt.plot(x, y)"
   ]
  },
  {
   "cell_type": "code",
   "execution_count": 24,
   "metadata": {
    "scrolled": true
   },
   "outputs": [
    {
     "data": {
      "text/plain": [
       "<matplotlib.collections.PathCollection at 0x126810700>"
      ]
     },
     "execution_count": 24,
     "metadata": {},
     "output_type": "execute_result"
    },
    {
     "data": {
      "image/png": "[encoded data removed]",
      "text/plain": [
       "<Figure size 432x288 with 1 Axes>"
      ]
     },
     "metadata": {
      "needs_background": "light"
     },
     "output_type": "display_data"
    }
   ],
   "source": [
    "plt.scatter(x, y)"
   ]
  },
  {
   "cell_type": "code",
   "execution_count": 25,
   "metadata": {
    "scrolled": true
   },
   "outputs": [
    {
     "data": {
      "text/plain": [
       "array([[ 1.,  2.,  3.,  4.,  5.,  6.,  7.,  8.,  9.],\n",
       "       [ 2.,  4.,  6.,  8., 10., 12., 14., 16., 18.],\n",
       "       [ 3.,  6.,  9., 12., 15., 18., 21., 24., 27.],\n",
       "       [ 4.,  8., 12., 16., 20., 24., 28., 32., 36.],\n",
       "       [ 5., 10., 15., 20., 25., 30., 35., 40., 45.],\n",
       "       [ 6., 12., 18., 24., 30., 36., 42., 48., 54.],\n",
       "       [ 7., 14., 21., 28., 35., 42., 49., 56., 63.],\n",
       "       [ 8., 16., 24., 32., 40., 48., 56., 64., 72.],\n",
       "       [ 9., 18., 27., 36., 45., 54., 63., 72., 81.]])"
      ]
     },
     "execution_count": 25,
     "metadata": {},
     "output_type": "execute_result"
    }
   ],
   "source": [
    "np.fromfunction(lambda i,j:(i+1)*(j+1), (9,9))"
   ]
  },
  {
   "cell_type": "code",
   "execution_count": null,
   "metadata": {},
   "outputs": [],
   "source": []
  },
  {
   "cell_type": "markdown",
   "metadata": {},
   "source": [
    "## Indexing and Slicing"
   ]
  },
  {
   "cell_type": "code",
   "execution_count": 26,
   "metadata": {},
   "outputs": [
    {
     "name": "stdout",
     "output_type": "stream",
     "text": [
      "[[ 1  2  3  4  5  6  7  8  9]\n",
      " [ 2  4  6  8 10 12 14 16 18]\n",
      " [ 3  6  9 12 15 18 21 24 27]\n",
      " [ 4  8 12 16 20 24 28 32 36]\n",
      " [ 5 10 15 20 25 30 35 40 45]\n",
      " [ 6 12 18 24 30 36 42 48 54]\n",
      " [ 7 14 21 28 35 42 49 56 63]\n",
      " [ 8 16 24 32 40 48 56 64 72]\n",
      " [ 9 18 27 36 45 54 63 72 81]]\n"
     ]
    },
    {
     "data": {
      "text/plain": [
       "array([ 2,  4,  6,  8, 10, 12, 14, 16, 18], dtype=int32)"
      ]
     },
     "execution_count": 26,
     "metadata": {},
     "output_type": "execute_result"
    }
   ],
   "source": [
    "myarray = np.fromfunction(lambda i,j:(i+1)*(j+1), (9,9), dtype = 'int32')\n",
    "\n",
    "print(myarray)\n",
    "\n",
    "myarray[: ,1]"
   ]
  },
  {
   "cell_type": "code",
   "execution_count": 27,
   "metadata": {},
   "outputs": [
    {
     "data": {
      "text/plain": [
       "array([[49, 56, 63],\n",
       "       [56, 64, 72],\n",
       "       [63, 72, 81]], dtype=int32)"
      ]
     },
     "execution_count": 27,
     "metadata": {},
     "output_type": "execute_result"
    }
   ],
   "source": [
    "myarray[-3:,-3:]"
   ]
  },
  {
   "cell_type": "code",
   "execution_count": 28,
   "metadata": {},
   "outputs": [
    {
     "data": {
      "text/plain": [
       "array([[ 7, 14, 21, 28, 35, 42, 49, 56, 63],\n",
       "       [ 8, 16, 24, 32, 40, 48, 56, 64, 72],\n",
       "       [ 9, 18, 27, 36, 45, 54, 63, 72, 81]], dtype=int32)"
      ]
     },
     "execution_count": 28,
     "metadata": {},
     "output_type": "execute_result"
    }
   ],
   "source": [
    "myarray[-3:]"
   ]
  },
  {
   "cell_type": "code",
   "execution_count": 29,
   "metadata": {},
   "outputs": [
    {
     "data": {
      "text/plain": [
       "array([[ 7,  8,  9],\n",
       "       [14, 16, 18],\n",
       "       [21, 24, 27],\n",
       "       [28, 32, 36],\n",
       "       [35, 40, 45],\n",
       "       [42, 48, 54],\n",
       "       [49, 56, 63],\n",
       "       [56, 64, 72],\n",
       "       [63, 72, 81]], dtype=int32)"
      ]
     },
     "execution_count": 29,
     "metadata": {},
     "output_type": "execute_result"
    }
   ],
   "source": [
    "myarray[:,-3:]"
   ]
  },
  {
   "cell_type": "markdown",
   "metadata": {},
   "source": [
    "### Slice and View"
   ]
  },
  {
   "cell_type": "code",
   "execution_count": 30,
   "metadata": {},
   "outputs": [
    {
     "name": "stdout",
     "output_type": "stream",
     "text": [
      "Element Type:  int32\n",
      "Shape:    (2, 3)\n",
      "Strides:  (180, 4)\n",
      "[[ 7  8  9]\n",
      " [42 48 54]]\n",
      "\n"
     ]
    }
   ],
   "source": [
    "newarray = myarray[::5,-3:]\n",
    "print_array(newarray)"
   ]
  },
  {
   "cell_type": "code",
   "execution_count": 31,
   "metadata": {},
   "outputs": [
    {
     "name": "stdout",
     "output_type": "stream",
     "text": [
      "Element Type:  int32\n",
      "Shape:    (2, 3)\n",
      "Strides:  (12, 4)\n",
      "[[ 7  8  9]\n",
      " [42 48 54]]\n",
      "\n"
     ]
    }
   ],
   "source": [
    "newarray2 = np.array([[ 7, 8, 9], [42, 48, 54]], dtype=\"int32\")\n",
    "print_array(newarray2)"
   ]
  },
  {
   "cell_type": "code",
   "execution_count": 32,
   "metadata": {},
   "outputs": [
    {
     "name": "stdout",
     "output_type": "stream",
     "text": [
      "132 ns ± 2.52 ns per loop (mean ± std. dev. of 7 runs, 10000000 loops each)\n",
      "296 ns ± 2.29 ns per loop (mean ± std. dev. of 7 runs, 1000000 loops each)\n"
     ]
    }
   ],
   "source": [
    "%timeit newarray = myarray[::5,-3:]\n",
    "%timeit newarray2 = myarray[::5,-3:].copy()"
   ]
  },
  {
   "cell_type": "markdown",
   "metadata": {},
   "source": [
    "#### slicing a sliced view"
   ]
  },
  {
   "cell_type": "code",
   "execution_count": 33,
   "metadata": {},
   "outputs": [
    {
     "name": "stdout",
     "output_type": "stream",
     "text": [
      "Element Type:  int32\n",
      "Shape:    (2, 3)\n",
      "Strides:  (180, 4)\n",
      "[[ 7  8  9]\n",
      " [42 48 54]]\n",
      "\n",
      "Element Type:  int32\n",
      "Shape:    (2, 2)\n",
      "Strides:  (180, 4)\n",
      "[[ 8  9]\n",
      " [48 54]]\n",
      "\n"
     ]
    }
   ],
   "source": [
    "print_array(newarray)\n",
    "newarray3 = newarray[:,-2:] \n",
    "print_array(newarray3)"
   ]
  },
  {
   "cell_type": "code",
   "execution_count": 34,
   "metadata": {},
   "outputs": [],
   "source": [
    "newarray3 = newarray[:,-2:].copy()\n",
    "\n",
    "newarray3.fill(0)"
   ]
  },
  {
   "cell_type": "code",
   "execution_count": 35,
   "metadata": {},
   "outputs": [
    {
     "name": "stdout",
     "output_type": "stream",
     "text": [
      "[[0 0]\n",
      " [0 0]]\n",
      "[[ 7  8  9]\n",
      " [42 48 54]]\n",
      "[[ 1  2  3  4  5  6  7  8  9]\n",
      " [ 2  4  6  8 10 12 14 16 18]\n",
      " [ 3  6  9 12 15 18 21 24 27]\n",
      " [ 4  8 12 16 20 24 28 32 36]\n",
      " [ 5 10 15 20 25 30 35 40 45]\n",
      " [ 6 12 18 24 30 36 42 48 54]\n",
      " [ 7 14 21 28 35 42 49 56 63]\n",
      " [ 8 16 24 32 40 48 56 64 72]\n",
      " [ 9 18 27 36 45 54 63 72 81]]\n"
     ]
    }
   ],
   "source": [
    "print(newarray3)\n",
    "print(newarray)\n",
    "print(myarray)"
   ]
  },
  {
   "cell_type": "markdown",
   "metadata": {},
   "source": [
    "### fancy indexing"
   ]
  },
  {
   "cell_type": "code",
   "execution_count": 36,
   "metadata": {},
   "outputs": [
    {
     "name": "stdout",
     "output_type": "stream",
     "text": [
      "[ 0 10 20 30 40 50 60 70 80 90]\n",
      "[10 50 90 10 10]\n"
     ]
    }
   ],
   "source": [
    "myarray = np.arange(0, 100, 10)\n",
    "indices = [1, 5, -1, 1, 1]\n",
    "newarray = myarray[indices]\n",
    "print(myarray)\n",
    "print(newarray)"
   ]
  },
  {
   "cell_type": "markdown",
   "metadata": {},
   "source": [
    "### boolean indexing"
   ]
  },
  {
   "cell_type": "code",
   "execution_count": 37,
   "metadata": {},
   "outputs": [
    {
     "data": {
      "text/plain": [
       "array([1, 6, 8, 9])"
      ]
     },
     "execution_count": 37,
     "metadata": {},
     "output_type": "execute_result"
    }
   ],
   "source": [
    "myarray = np.arange(10)\n",
    "b = [False,  True,  False, False, False, False,  True, False, True,  True]\n",
    "\n",
    "myarray[b]"
   ]
  },
  {
   "cell_type": "code",
   "execution_count": 38,
   "metadata": {},
   "outputs": [
    {
     "data": {
      "text/plain": [
       "array([1, 4, 7])"
      ]
     },
     "execution_count": 38,
     "metadata": {},
     "output_type": "execute_result"
    }
   ],
   "source": [
    "myarray[myarray%3==1]"
   ]
  },
  {
   "cell_type": "markdown",
   "metadata": {},
   "source": [
    "## Reshaping and resizing"
   ]
  },
  {
   "cell_type": "code",
   "execution_count": 39,
   "metadata": {},
   "outputs": [
    {
     "name": "stdout",
     "output_type": "stream",
     "text": [
      "[[1 2 3 4]]\n",
      "[1 2 3 4]\n",
      "[1 2 3 4]\n"
     ]
    },
    {
     "data": {
      "text/plain": [
       "array([[1, 2],\n",
       "       [3, 4]])"
      ]
     },
     "execution_count": 39,
     "metadata": {},
     "output_type": "execute_result"
    }
   ],
   "source": [
    "data = np.array([[1, 2], [3, 4]])\n",
    "print(np.reshape(data, (1, 4)))\n",
    "print(data.reshape(4))\n",
    "print(data.reshape(4,))\n",
    "data"
   ]
  },
  {
   "cell_type": "markdown",
   "metadata": {},
   "source": [
    "### reshaping and row-orders"
   ]
  },
  {
   "cell_type": "code",
   "execution_count": 40,
   "metadata": {},
   "outputs": [
    {
     "name": "stdout",
     "output_type": "stream",
     "text": [
      "Element Type:  int64\n",
      "Shape:    (2, 3)\n",
      "Strides:  (24, 8)\n",
      "[[0 1 2]\n",
      " [3 4 5]]\n",
      "\n",
      "Element Type:  int64\n",
      "Shape:    (3, 2)\n",
      "Strides:  (16, 8)\n",
      "[[0 1]\n",
      " [2 3]\n",
      " [4 5]]\n",
      "\n"
     ]
    }
   ],
   "source": [
    "x = np.arange(6).reshape(2,3)\n",
    "print_array(x)\n",
    "print_array(x.reshape(3, 2)) #by default, it is reshaping according to the row-major-order (c-style)"
   ]
  },
  {
   "cell_type": "code",
   "execution_count": 41,
   "metadata": {},
   "outputs": [
    {
     "name": "stdout",
     "output_type": "stream",
     "text": [
      "Element Type:  int64\n",
      "Shape:    (3, 2)\n",
      "Strides:  (8, 24)\n",
      "[[0 3]\n",
      " [1 4]\n",
      " [2 5]]\n",
      "\n"
     ]
    }
   ],
   "source": [
    "#reshaping a transposed matrix could be difficult\n",
    "print_array(x.T)"
   ]
  },
  {
   "cell_type": "code",
   "execution_count": 42,
   "metadata": {},
   "outputs": [
    {
     "name": "stdout",
     "output_type": "stream",
     "text": [
      "Element Type:  int64\n",
      "Shape:    (2, 3)\n",
      "Strides:  (24, 8)\n",
      "[[0 3 1]\n",
      " [4 2 5]]\n",
      "\n",
      "Element Type:  int64\n",
      "Shape:    (6,)\n",
      "Strides:  (8,)\n",
      "[0 3 1 4 2 5]\n",
      "\n"
     ]
    }
   ],
   "source": [
    "print_array(x.T.reshape(2, 3)) # this array has a different layout from the original x; a copy is needed\n",
    "print_array(x.T.reshape(2, 3).reshape(6,))"
   ]
  },
  {
   "cell_type": "code",
   "execution_count": 43,
   "metadata": {},
   "outputs": [
    {
     "name": "stdout",
     "output_type": "stream",
     "text": [
      "Element Type:  int64\n",
      "Shape:    (2, 3)\n",
      "Strides:  (24, 8)\n",
      "[[0 1 2]\n",
      " [3 4 5]]\n",
      "\n",
      "Element Type:  int64\n",
      "Shape:    (3, 2)\n",
      "Strides:  (8, 24)\n",
      "[[0 4]\n",
      " [3 2]\n",
      " [1 5]]\n",
      "\n",
      "Element Type:  int64\n",
      "Shape:    (6,)\n",
      "Strides:  (8,)\n",
      "[0 4 3 2 1 5]\n",
      "\n"
     ]
    }
   ],
   "source": [
    "print_array(x)\n",
    "print_array(x.reshape(3, 2, order = 'F')) #the order could be specified\n",
    "print_array(x.reshape(3, 2, order = 'F').reshape(6,))"
   ]
  },
  {
   "cell_type": "code",
   "execution_count": 44,
   "metadata": {},
   "outputs": [
    {
     "name": "stdout",
     "output_type": "stream",
     "text": [
      "Element Type:  int64\n",
      "Shape:    (2, 3)\n",
      "Strides:  (8, 16)\n",
      "[[0 1 2]\n",
      " [3 4 5]]\n",
      "\n",
      "Element Type:  int64\n",
      "Shape:    (3, 2)\n",
      "Strides:  (16, 8)\n",
      "[[0 1]\n",
      " [2 3]\n",
      " [4 5]]\n",
      "\n"
     ]
    }
   ],
   "source": [
    "print_array(x.copy(order = 'F'))\n",
    "print_array(x.copy(order = 'F').reshape(3,2))"
   ]
  },
  {
   "cell_type": "code",
   "execution_count": 45,
   "metadata": {},
   "outputs": [
    {
     "data": {
      "text/plain": [
       "array([[0, 1],\n",
       "       [2, 3],\n",
       "       [4, 5]])"
      ]
     },
     "execution_count": 45,
     "metadata": {},
     "output_type": "execute_result"
    }
   ],
   "source": [
    "# the order could be automatically decided by the memory layout\n",
    "# in this case, the reshaped matrix may have different values\n",
    "x.reshape(3, 2, order = 'A') "
   ]
  },
  {
   "cell_type": "code",
   "execution_count": 46,
   "metadata": {},
   "outputs": [
    {
     "data": {
      "text/plain": [
       "array([[0, 4],\n",
       "       [3, 2],\n",
       "       [1, 5]])"
      ]
     },
     "execution_count": 46,
     "metadata": {},
     "output_type": "execute_result"
    }
   ],
   "source": [
    "x.copy(order = 'F').reshape(3, 2, order = 'A') "
   ]
  },
  {
   "cell_type": "markdown",
   "metadata": {},
   "source": [
    "#### other shaping methods"
   ]
  },
  {
   "cell_type": "code",
   "execution_count": 47,
   "metadata": {},
   "outputs": [
    {
     "name": "stdout",
     "output_type": "stream",
     "text": [
      "[1 2 3 4]\n"
     ]
    },
    {
     "data": {
      "text/plain": [
       "(4,)"
      ]
     },
     "execution_count": 47,
     "metadata": {},
     "output_type": "execute_result"
    }
   ],
   "source": [
    "print(data.flatten())\n",
    "data.flatten().shape"
   ]
  },
  {
   "cell_type": "code",
   "execution_count": 48,
   "metadata": {
    "scrolled": true
   },
   "outputs": [
    {
     "name": "stdout",
     "output_type": "stream",
     "text": [
      "[[[1]\n",
      "  [2]]\n",
      "\n",
      " [[3]\n",
      "  [4]]]\n",
      "(2, 2, 1)\n",
      "[[100   2]\n",
      " [  3   4]]\n",
      "[[[100]\n",
      "  [  2]]\n",
      "\n",
      " [[  3]\n",
      "  [  4]]]\n"
     ]
    }
   ],
   "source": [
    "expendeddata = data[:,:, np.newaxis]\n",
    "print(expendeddata)\n",
    "print(expendeddata.shape)\n",
    "expendeddata[0][0] = 100\n",
    "print(data)\n",
    "print(expendeddata)"
   ]
  },
  {
   "cell_type": "code",
   "execution_count": 49,
   "metadata": {},
   "outputs": [
    {
     "data": {
      "text/plain": [
       "array([[100,   2, 100,   2, 100,   2],\n",
       "       [  3,   4,   3,   4,   3,   4]])"
      ]
     },
     "execution_count": 49,
     "metadata": {},
     "output_type": "execute_result"
    }
   ],
   "source": [
    "np.hstack((data, data, data))"
   ]
  },
  {
   "cell_type": "code",
   "execution_count": 50,
   "metadata": {
    "scrolled": false
   },
   "outputs": [
    {
     "data": {
      "text/plain": [
       "array([[100,   2],\n",
       "       [  3,   4],\n",
       "       [100,   2],\n",
       "       [  3,   4],\n",
       "       [100,   2],\n",
       "       [  3,   4]])"
      ]
     },
     "execution_count": 50,
     "metadata": {},
     "output_type": "execute_result"
    }
   ],
   "source": [
    "np.vstack((data, data, data))"
   ]
  },
  {
   "cell_type": "markdown",
   "metadata": {},
   "source": [
    "# Elementwise operation and vectorization\n",
    "## Arithmetic operations"
   ]
  },
  {
   "cell_type": "code",
   "execution_count": 51,
   "metadata": {},
   "outputs": [
    {
     "name": "stdout",
     "output_type": "stream",
     "text": [
      "[[ 6  8]\n",
      " [10 12]]\n",
      "[[-4 -4]\n",
      " [-4 -4]]\n",
      "[[ 5 12]\n",
      " [21 32]]\n",
      "[[0.2        0.33333333]\n",
      " [0.42857143 0.5       ]]\n"
     ]
    }
   ],
   "source": [
    "x = np.array([[1, 2], [3, 4]])\n",
    "y = np.array([[5, 6], [7, 8]])\n",
    "print(x + y)\n",
    "print(x - y)\n",
    "print(x * y)\n",
    "print(x / y)"
   ]
  },
  {
   "cell_type": "markdown",
   "metadata": {},
   "source": [
    "## vectorization v.s. loop"
   ]
  },
  {
   "cell_type": "code",
   "execution_count": 52,
   "metadata": {},
   "outputs": [
    {
     "name": "stdout",
     "output_type": "stream",
     "text": [
      "5.29 µs ± 8.94 ns per loop (mean ± std. dev. of 7 runs, 100000 loops each)\n",
      "1.49 ms ± 19 µs per loop (mean ± std. dev. of 7 runs, 1000 loops each)\n"
     ]
    }
   ],
   "source": [
    "size = 10000\n",
    "a = np.random.rand(size)\n",
    "b = np.random.rand(size)\n",
    "\n",
    "%timeit c = np.dot(a, b)\n",
    "\n",
    "def mydot(a , b):\n",
    "    c = 0\n",
    "    for i in range(a.size):\n",
    "        c += a[i] * b[i]\n",
    "    return c\n",
    "\n",
    "%timeit mydot(a, b)\n"
   ]
  },
  {
   "cell_type": "code",
   "execution_count": 53,
   "metadata": {},
   "outputs": [
    {
     "name": "stdout",
     "output_type": "stream",
     "text": [
      "2.85 µs ± 278 ns per loop (mean ± std. dev. of 7 runs, 100000 loops each)\n",
      "2.16 ms ± 31.1 µs per loop (mean ± std. dev. of 7 runs, 100 loops each)\n"
     ]
    }
   ],
   "source": [
    "size = 10000\n",
    "a = np.random.rand(size)\n",
    "b = np.random.rand(size)\n",
    "\n",
    "%timeit c = np.add(a, b)\n",
    "\n",
    "def myadd(a , b):\n",
    "    c = np.empty(a.size)\n",
    "    for i in range(a.size):\n",
    "        c[i] += a[i] + b[i]\n",
    "    return c\n",
    "\n",
    "%timeit myadd(a, b)"
   ]
  },
  {
   "cell_type": "code",
   "execution_count": 54,
   "metadata": {
    "scrolled": true
   },
   "outputs": [
    {
     "name": "stdout",
     "output_type": "stream",
     "text": [
      "[[ 3 -1  4  0  2]\n",
      " [-2  4  0  0  3]\n",
      " [-5  2 -4  0  0]\n",
      " [ 0  0 -5  2  0]\n",
      " [-2  4  0 -1  0]]\n"
     ]
    }
   ],
   "source": [
    "np.random.seed(1001)\n",
    "a = np.random.randint(low=-10, high=10, size=[5, 5])\n",
    "index = (a < -5) | (a > 5)\n",
    "a[index] = 0\n",
    "print(a)"
   ]
  },
  {
   "cell_type": "markdown",
   "metadata": {},
   "source": [
    "## universal functions"
   ]
  },
  {
   "cell_type": "markdown",
   "metadata": {},
   "source": [
    "### Broadcasting"
   ]
  },
  {
   "cell_type": "code",
   "execution_count": 55,
   "metadata": {},
   "outputs": [
    {
     "name": "stdout",
     "output_type": "stream",
     "text": [
      "[[ 0  2  4  6  8]\n",
      " [10 12 14 16 18]\n",
      " [20 22 24 26 28]\n",
      " [30 32 34 36 38]\n",
      " [40 42 44 46 48]]\n",
      "[[  0   1   4   9  16]\n",
      " [ 25  36  49  64  81]\n",
      " [100 121 144 169 196]\n",
      " [225 256 289 324 361]\n",
      " [400 441 484 529 576]]\n",
      "[[       1        2        4        8       16]\n",
      " [      32       64      128      256      512]\n",
      " [    1024     2048     4096     8192    16384]\n",
      " [   32768    65536   131072   262144   524288]\n",
      " [ 1048576  2097152  4194304  8388608 16777216]]\n",
      "[[ 0.   0.5  1.   1.5  2. ]\n",
      " [ 2.5  3.   3.5  4.   4.5]\n",
      " [ 5.   5.5  6.   6.5  7. ]\n",
      " [ 7.5  8.   8.5  9.   9.5]\n",
      " [10.  10.5 11.  11.5 12. ]]\n"
     ]
    }
   ],
   "source": [
    "#broadcasting scalar\n",
    "x = np.arange(25).reshape(5,5)\n",
    "print(x * 2)\n",
    "print(x ** 2)\n",
    "print(2 ** x)\n",
    "print(x / 2)"
   ]
  },
  {
   "cell_type": "code",
   "execution_count": 56,
   "metadata": {},
   "outputs": [
    {
     "name": "stdout",
     "output_type": "stream",
     "text": [
      "Element Type:  int64\n",
      "Shape:    (4,)\n",
      "Strides:  (8,)\n",
      "[0 1 2 3]\n",
      "\n",
      "Element Type:  int64\n",
      "Shape:    (4, 1)\n",
      "Strides:  (8, 8)\n",
      "[[0]\n",
      " [1]\n",
      " [2]\n",
      " [3]]\n",
      "\n",
      "Element Type:  float64\n",
      "Shape:    (5,)\n",
      "Strides:  (8,)\n",
      "[1. 1. 1. 1. 1.]\n",
      "\n",
      "Element Type:  float64\n",
      "Shape:    (3, 4)\n",
      "Strides:  (32, 8)\n",
      "[[1. 1. 1. 1.]\n",
      " [1. 1. 1. 1.]\n",
      " [1. 1. 1. 1.]]\n",
      "\n"
     ]
    }
   ],
   "source": [
    "#broadcasting between ndarrays\n",
    "x = np.arange(4)\n",
    "xx = x.reshape(4,1)\n",
    "y = np.ones(5)\n",
    "z = np.ones((3,4))\n",
    "\n",
    "print_array(x)\n",
    "print_array(xx)\n",
    "print_array(y)\n",
    "print_array(z)"
   ]
  },
  {
   "cell_type": "code",
   "execution_count": 57,
   "metadata": {
    "scrolled": true
   },
   "outputs": [],
   "source": [
    "#x + y"
   ]
  },
  {
   "cell_type": "raw",
   "metadata": {},
   "source": [
    "---------------------------------------------------------------------------\n",
    "ValueError                                Traceback (most recent call last)\n",
    "<ipython-input-51-cd60f97aa77f> in <module>\n",
    "----> 1 x + y\n",
    "\n",
    "ValueError: operands could not be broadcast together with shapes (4,) (5,) "
   ]
  },
  {
   "cell_type": "code",
   "execution_count": 58,
   "metadata": {},
   "outputs": [
    {
     "data": {
      "text/plain": [
       "array([[1., 1., 1., 1., 1.],\n",
       "       [2., 2., 2., 2., 2.],\n",
       "       [3., 3., 3., 3., 3.],\n",
       "       [4., 4., 4., 4., 4.]])"
      ]
     },
     "execution_count": 58,
     "metadata": {},
     "output_type": "execute_result"
    }
   ],
   "source": [
    "xx + y"
   ]
  },
  {
   "cell_type": "code",
   "execution_count": 59,
   "metadata": {
    "scrolled": true
   },
   "outputs": [],
   "source": [
    "#x + z"
   ]
  },
  {
   "cell_type": "raw",
   "metadata": {},
   "source": [
    "---------------------------------------------------------------------------\n",
    "ValueError                                Traceback (most recent call last)\n",
    "<ipython-input-55-2d5f8479e2db> in <module>\n",
    "----> 1 x + z\n",
    "\n",
    "ValueError: operands could not be broadcast together with shapes (5,5) (3,4) "
   ]
  },
  {
   "cell_type": "code",
   "execution_count": 60,
   "metadata": {},
   "outputs": [
    {
     "name": "stdout",
     "output_type": "stream",
     "text": [
      "Element Type:  int64\n",
      "Shape:    (4, 1, 5)\n",
      "Strides:  (40, 40, 8)\n",
      "[[[ 0  1  2  3  4]]\n",
      "\n",
      " [[ 5  6  7  8  9]]\n",
      "\n",
      " [[10 11 12 13 14]]\n",
      "\n",
      " [[15 16 17 18 19]]]\n",
      "\n",
      "Element Type:  int64\n",
      "Shape:    (4, 5)\n",
      "Strides:  (40, 8)\n",
      "[[ 0  1  2  3  4]\n",
      " [ 5  6  7  8  9]\n",
      " [10 11 12 13 14]\n",
      " [15 16 17 18 19]]\n",
      "\n",
      "Element Type:  int64\n",
      "Shape:    (4, 4, 5)\n",
      "Strides:  (160, 40, 8)\n",
      "[[[ 0  2  4  6  8]\n",
      "  [ 5  7  9 11 13]\n",
      "  [10 12 14 16 18]\n",
      "  [15 17 19 21 23]]\n",
      "\n",
      " [[ 5  7  9 11 13]\n",
      "  [10 12 14 16 18]\n",
      "  [15 17 19 21 23]\n",
      "  [20 22 24 26 28]]\n",
      "\n",
      " [[10 12 14 16 18]\n",
      "  [15 17 19 21 23]\n",
      "  [20 22 24 26 28]\n",
      "  [25 27 29 31 33]]\n",
      "\n",
      " [[15 17 19 21 23]\n",
      "  [20 22 24 26 28]\n",
      "  [25 27 29 31 33]\n",
      "  [30 32 34 36 38]]]\n",
      "\n"
     ]
    }
   ],
   "source": [
    "x = np.arange(20).reshape((4,1,5))\n",
    "y = np.arange(20).reshape(4,5)\n",
    "print_array(x)\n",
    "print_array(y)\n",
    "print_array(x + y)"
   ]
  },
  {
   "cell_type": "code",
   "execution_count": 59,
   "metadata": {},
   "outputs": [
    {
     "name": "stdout",
     "output_type": "stream",
     "text": [
      "(9, 5, 7, 9, 5, 3)\n",
      "(9, 5, 7, 3)\n"
     ]
    }
   ],
   "source": [
    "a = np.ones((9, 5, 7, 4))\n",
    "c = np.ones([9, 5, 4, 3])\n",
    "\n",
    "print(np.dot(a, c).shape)\n",
    "print(np.matmul(a, c).shape)"
   ]
  },
  {
   "cell_type": "code",
   "execution_count": 52,
   "metadata": {},
   "outputs": [
    {
     "name": "stdout",
     "output_type": "stream",
     "text": [
      "[0.00000e+00 1.60000e+00 3.20000e+00 ... 1.59952e+04 1.59968e+04\n",
      " 1.59984e+04]\n",
      "[0.00000e+00 1.60000e+00 3.20000e+00 ... 1.59952e+04 1.59968e+04\n",
      " 1.59984e+04]\n",
      "9.47 µs ± 62.1 ns per loop (mean ± std. dev. of 7 runs, 100000 loops each)\n",
      "19.3 ms ± 261 µs per loop (mean ± std. dev. of 7 runs, 100 loops each)\n"
     ]
    }
   ],
   "source": [
    "#efficiency of broadcasting\n",
    "x = np.arange(10000)\n",
    "print(x * 1.6)\n",
    "print(np.array([i * 1.6 for i in x]))\n",
    "\n",
    "%timeit x * 1.6\n",
    "%timeit [i * 1.6 for i in x]"
   ]
  },
  {
   "cell_type": "markdown",
   "metadata": {},
   "source": [
    "#### broadcasting boolean operations"
   ]
  },
  {
   "cell_type": "code",
   "execution_count": 53,
   "metadata": {},
   "outputs": [
    {
     "name": "stdout",
     "output_type": "stream",
     "text": [
      "[0.96550914 0.35274539 0.60589476 0.21738034 0.99196955 0.66917956\n",
      " 0.69303974 0.17547093 0.83044881 0.24618777]\n",
      "[ True  True  True  True  True  True  True False  True  True]\n",
      "[False False False False False False False  True False False]\n"
     ]
    }
   ],
   "source": [
    "x = np.random.rand(10)\n",
    "print(x)\n",
    "print(x > 0.2)\n",
    "print((-0.2 < x) * ( x < 0.2))"
   ]
  },
  {
   "cell_type": "markdown",
   "metadata": {},
   "source": [
    "### more about ufuncs"
   ]
  },
  {
   "cell_type": "markdown",
   "metadata": {},
   "source": [
    "#### using argument out and where "
   ]
  },
  {
   "cell_type": "code",
   "execution_count": 61,
   "metadata": {
    "scrolled": true
   },
   "outputs": [
    {
     "name": "stdout",
     "output_type": "stream",
     "text": [
      "CPU times: user 705 µs, sys: 1.91 ms, total: 2.62 ms\n",
      "Wall time: 3.22 ms\n",
      "CPU times: user 917 µs, sys: 1.71 ms, total: 2.62 ms\n",
      "Wall time: 1.97 ms\n",
      "CPU times: user 789 µs, sys: 294 µs, total: 1.08 ms\n",
      "Wall time: 886 µs\n"
     ]
    }
   ],
   "source": [
    "#avoiding creating new objects\n",
    "\n",
    "x = np.arange(1000000)\n",
    "%time y = x * 2\n",
    "%time x = x * 2\n",
    "%time x *= 2"
   ]
  },
  {
   "cell_type": "code",
   "execution_count": 62,
   "metadata": {},
   "outputs": [
    {
     "name": "stdout",
     "output_type": "stream",
     "text": [
      "[[0.96550914 0.35274539 0.60589476]\n",
      " [0.21738034 0.99196955 0.66917956]\n",
      " [0.69303974 0.17547093 0.83044881]]\n",
      "[[0.9655 0.3527 0.6059]\n",
      " [0.2174 0.992  0.6692]\n",
      " [0.693  0.1755 0.8304]]\n",
      "CPU times: user 60 µs, sys: 113 µs, total: 173 µs\n",
      "Wall time: 432 µs\n",
      "CPU times: user 48 µs, sys: 3 µs, total: 51 µs\n",
      "Wall time: 52.9 µs\n"
     ]
    },
    {
     "data": {
      "text/plain": [
       "array([[0.2462, 0.6042, 0.8185, ..., 0.798 , 0.2921, 0.5033],\n",
       "       [0.134 , 0.1648, 0.2816, ..., 0.1099, 0.2815, 0.8181],\n",
       "       [0.964 , 0.8134, 0.498 , ..., 0.2912, 0.4692, 0.8405],\n",
       "       ...,\n",
       "       [0.0507, 0.2628, 0.2639, ..., 0.3952, 0.1511, 0.9189],\n",
       "       [0.7836, 0.919 , 0.6866, ..., 0.4769, 0.3495, 0.9415],\n",
       "       [0.8449, 0.8416, 0.9247, ..., 0.834 , 0.6336, 0.7889]])"
      ]
     },
     "execution_count": 62,
     "metadata": {},
     "output_type": "execute_result"
    }
   ],
   "source": [
    "#specifying out argument\n",
    "y = np.random.rand(3,3)\n",
    "print(y)\n",
    "print(np.round(y, decimals = 4))\n",
    "\n",
    "y = np.random.rand(100,100)\n",
    "\n",
    "%time np.round(y, decimals = 4)\n",
    "%time np.round(y, decimals = 4, out = y)"
   ]
  },
  {
   "cell_type": "code",
   "execution_count": 66,
   "metadata": {},
   "outputs": [
    {
     "name": "stdout",
     "output_type": "stream",
     "text": [
      "[0 1 2 3 4]\n",
      "[True, True, False, True, False]\n",
      "[5 6 2 8 4]\n"
     ]
    }
   ],
   "source": [
    "#specifying where argument\n",
    "x = np.arange(5)\n",
    "y = [True, True, False, True, False]\n",
    "\n",
    "z = np.add(x, 5, where = y)\n",
    "#z = np.add(x, 5, where = (x%3==0))\n",
    "print(x)\n",
    "print(y)\n",
    "print(z)"
   ]
  },
  {
   "cell_type": "markdown",
   "metadata": {},
   "source": [
    "#### using ufunc methods"
   ]
  },
  {
   "cell_type": "code",
   "execution_count": null,
   "metadata": {},
   "outputs": [],
   "source": [
    "#reduce\n",
    "x = np.arange(24).reshape(4, 6)\n",
    "np.add.reduce(x)\n",
    "np.add.reduce(x, axis = 1)"
   ]
  },
  {
   "cell_type": "code",
   "execution_count": 3,
   "metadata": {},
   "outputs": [
    {
     "name": "stdout",
     "output_type": "stream",
     "text": [
      "[[ 0  1  2  3  4  5]\n",
      " [ 6  7  8  9 10 11]\n",
      " [12 13 14 15 16 17]\n",
      " [18 19 20 21 22 23]]\n",
      "[[    0     1     2     3     4     5]\n",
      " [    0     7    16    27    40    55]\n",
      " [    0    91   224   405   640   935]\n",
      " [    0  1729  4480  8505 14080 21505]] [    0  1729  4480  8505 14080 21505]\n"
     ]
    }
   ],
   "source": [
    "#reduce and accumulate\n",
    "x = np.arange(24).reshape(4, 6)\n",
    "xacc = np.multiply.accumulate(x) #along axix 0\n",
    "xred = np.multiply.reduce(x)\n",
    "print(x)\n",
    "print(xacc, xred)"
   ]
  },
  {
   "cell_type": "code",
   "execution_count": 10,
   "metadata": {},
   "outputs": [
    {
     "data": {
      "text/plain": [
       "array([[   0,    1,    2,    3,    4,    5],\n",
       "       [1296, 1729, 2240, 2835, 3520, 4301]])"
      ]
     },
     "execution_count": 10,
     "metadata": {},
     "output_type": "execute_result"
    }
   ],
   "source": [
    "#reduce at\n",
    "np.multiply.reduceat(x, [0,1], axis = 0)"
   ]
  },
  {
   "cell_type": "code",
   "execution_count": 9,
   "metadata": {},
   "outputs": [
    {
     "data": {
      "text/plain": [
       "array([ 6,  4, 10,  5, 14,  6, 18,  7])"
      ]
     },
     "execution_count": 9,
     "metadata": {},
     "output_type": "execute_result"
    }
   ],
   "source": [
    "x = np.arange(8)\n",
    "np.add.reduceat(x ,[0 , 4, 1 , 5]) #reduce for the slices (0 ,4) (4, 1) (1, 5) (5, len(=8)) "
   ]
  },
  {
   "cell_type": "code",
   "execution_count": 12,
   "metadata": {},
   "outputs": [
    {
     "data": {
      "text/plain": [
       "array([ 0,  1, 27])"
      ]
     },
     "execution_count": 12,
     "metadata": {},
     "output_type": "execute_result"
    }
   ],
   "source": [
    "np.add.reduceat(x ,[0 , 4, 1 , 5])[::2] #use pair of indexes, skip the results in the middle : （0,4）(1,5b)"
   ]
  },
  {
   "cell_type": "code",
   "execution_count": 14,
   "metadata": {},
   "outputs": [
    {
     "data": {
      "text/plain": [
       "array([-1, -2,  3,  4])"
      ]
     },
     "execution_count": 14,
     "metadata": {},
     "output_type": "execute_result"
    }
   ],
   "source": [
    "#at\n",
    "x = np.array([1, 2, 3, 4])\n",
    "np.negative.at(x, [0, 1])\n",
    "x"
   ]
  },
  {
   "cell_type": "code",
   "execution_count": 15,
   "metadata": {},
   "outputs": [
    {
     "data": {
      "text/plain": [
       "array([2, 3, 5, 4])"
      ]
     },
     "execution_count": 15,
     "metadata": {},
     "output_type": "execute_result"
    }
   ],
   "source": [
    "x = np.array([1, 2, 3, 4])\n",
    "np.add.at(x, [0, 1, 2, 2], 1) #add 1 to the index 0, 1, 2, 2 of array x\n",
    "x"
   ]
  },
  {
   "cell_type": "code",
   "execution_count": 16,
   "metadata": {},
   "outputs": [
    {
     "data": {
      "text/plain": [
       "array([2, 4, 3, 4])"
      ]
     },
     "execution_count": 16,
     "metadata": {},
     "output_type": "execute_result"
    }
   ],
   "source": [
    "x = np.array([1, 2, 3, 4])\n",
    "y = np.array([1, 2])\n",
    "np.add.at(x, [0, 1], y) # add y to the slice of x\n",
    "x"
   ]
  },
  {
   "cell_type": "code",
   "execution_count": 58,
   "metadata": {},
   "outputs": [
    {
     "name": "stdout",
     "output_type": "stream",
     "text": [
      "[[ 1  2  3  4  5  6  7  8  9]\n",
      " [ 2  4  6  8 10 12 14 16 18]\n",
      " [ 3  6  9 12 15 18 21 24 27]\n",
      " [ 4  8 12 16 20 24 28 32 36]\n",
      " [ 5 10 15 20 25 30 35 40 45]\n",
      " [ 6 12 18 24 30 36 42 48 54]\n",
      " [ 7 14 21 28 35 42 49 56 63]\n",
      " [ 8 16 24 32 40 48 56 64 72]\n",
      " [ 9 18 27 36 45 54 63 72 81]]\n",
      "[[ 2  3  4  5  6  7  8  9 10]\n",
      " [ 3  4  5  6  7  8  9 10 11]\n",
      " [ 4  5  6  7  8  9 10 11 12]\n",
      " [ 5  6  7  8  9 10 11 12 13]\n",
      " [ 6  7  8  9 10 11 12 13 14]\n",
      " [ 7  8  9 10 11 12 13 14 15]\n",
      " [ 8  9 10 11 12 13 14 15 16]\n",
      " [ 9 10 11 12 13 14 15 16 17]\n",
      " [10 11 12 13 14 15 16 17 18]]\n"
     ]
    }
   ],
   "source": [
    "#outer\n",
    "x = np.arange(1, 10)\n",
    "print(np.multiply.outer(x, x))\n",
    "print(np.add.outer(x, x))"
   ]
  },
  {
   "cell_type": "code",
   "execution_count": 59,
   "metadata": {},
   "outputs": [
    {
     "name": "stdout",
     "output_type": "stream",
     "text": [
      "(3, 3, 2, 2)\n",
      "[[[[ 1  2]\n",
      "   [ 3  4]]\n",
      "\n",
      "  [[ 2  4]\n",
      "   [ 6  8]]\n",
      "\n",
      "  [[ 3  6]\n",
      "   [ 9 12]]]\n",
      "\n",
      "\n",
      " [[[ 4  8]\n",
      "   [12 16]]\n",
      "\n",
      "  [[ 5 10]\n",
      "   [15 20]]\n",
      "\n",
      "  [[ 6 12]\n",
      "   [18 24]]]\n",
      "\n",
      "\n",
      " [[[ 7 14]\n",
      "   [21 28]]\n",
      "\n",
      "  [[ 8 16]\n",
      "   [24 32]]\n",
      "\n",
      "  [[ 9 18]\n",
      "   [27 36]]]]\n"
     ]
    }
   ],
   "source": [
    "#outer of higher dimensions\n",
    "x = np.arange(1,10).reshape(3,3)\n",
    "y = np.arange(1,5).reshape(2,2)\n",
    "outer = np.multiply.outer(x, y)\n",
    "print(outer.shape)\n",
    "print(outer)"
   ]
  },
  {
   "cell_type": "markdown",
   "metadata": {},
   "source": [
    "### create a universal function"
   ]
  },
  {
   "cell_type": "code",
   "execution_count": 60,
   "metadata": {},
   "outputs": [
    {
     "name": "stdout",
     "output_type": "stream",
     "text": [
      "[[0.38842941 0.36343108 0.30616747 0.82456247 0.22547133]\n",
      " [0.14564158 1.03766886 0.26566711 0.44922776 0.54131121]\n",
      " [1.74386379 0.6308246  0.80936613 0.38901702 0.80906223]\n",
      " [1.16698797 0.47498026 0.26522686 0.56571883 0.27092476]\n",
      " [1.03536968 0.32376243 0.10541827 1.03582782 0.90344529]]\n",
      "[[0.38842941 0.36343108 0.30616747 0.82456247 0.22547133]\n",
      " [0.14564158 1.03766886 0.26566711 0.44922776 0.54131121]\n",
      " [1.74386379 0.6308246  0.80936613 0.38901702 0.80906223]\n",
      " [1.16698797 0.47498026 0.26522686 0.56571883 0.27092476]\n",
      " [1.03536968 0.32376243 0.10541827 1.03582782 0.90344529]]\n",
      "21.5 µs ± 272 ns per loop (mean ± std. dev. of 7 runs, 10000 loops each)\n",
      "2 µs ± 16.8 ns per loop (mean ± std. dev. of 7 runs, 1000000 loops each)\n"
     ]
    }
   ],
   "source": [
    "def myfunc(x, y):\n",
    "    return x**2 + y**2\n",
    "\n",
    "myfunc_vectorized = np.vectorize(myfunc)\n",
    "\n",
    "x = np.random.rand(5, 5)\n",
    "y = np.random.rand(5, 5)\n",
    "\n",
    "print(myfunc_vectorized(x, y))\n",
    "print(x**2 + y**2)\n",
    "\n",
    "%timeit myfunc_vectorized(x, y)\n",
    "%timeit x**2 + y**2"
   ]
  },
  {
   "cell_type": "markdown",
   "metadata": {},
   "source": [
    "# ndarray Operations\n",
    "## Aggregate functions"
   ]
  },
  {
   "cell_type": "code",
   "execution_count": 61,
   "metadata": {},
   "outputs": [
    {
     "data": {
      "text/plain": [
       "0.06796685253647035"
      ]
     },
     "execution_count": 61,
     "metadata": {},
     "output_type": "execute_result"
    }
   ],
   "source": [
    "data = np.random.normal(size=(15,15))\n",
    "np.mean(data) # data.mean()"
   ]
  },
  {
   "cell_type": "code",
   "execution_count": 62,
   "metadata": {},
   "outputs": [
    {
     "data": {
      "text/plain": [
       "15.292541820705829"
      ]
     },
     "execution_count": 62,
     "metadata": {},
     "output_type": "execute_result"
    }
   ],
   "source": [
    "np.sum(data)"
   ]
  },
  {
   "cell_type": "code",
   "execution_count": 63,
   "metadata": {},
   "outputs": [
    {
     "name": "stdout",
     "output_type": "stream",
     "text": [
      "[0.80584622 0.02315767 0.30870034 0.63133067 0.14519004]\n",
      "1.9142249414982202\n",
      "[0.80584622 0.82900389 1.13770423 1.7690349  1.91422494]\n"
     ]
    }
   ],
   "source": [
    "data = np.random.rand(5)\n",
    "print(data)\n",
    "print(np.sum(data))\n",
    "print(np.cumsum(data)) #add.accumulate"
   ]
  },
  {
   "cell_type": "code",
   "execution_count": 64,
   "metadata": {},
   "outputs": [
    {
     "name": "stdout",
     "output_type": "stream",
     "text": [
      "(10, 15)\n",
      "(10,)\n"
     ]
    }
   ],
   "source": [
    "data = np.random.normal(size=(5, 10, 15))\n",
    "\n",
    "print(data.sum(axis=0).shape)\n",
    "print(data.sum(axis=(0, 2)).shape)\n"
   ]
  },
  {
   "cell_type": "markdown",
   "metadata": {},
   "source": [
    "## Conditional expressions"
   ]
  },
  {
   "cell_type": "code",
   "execution_count": 65,
   "metadata": {},
   "outputs": [
    {
     "data": {
      "text/plain": [
       "array([ True,  True, False, False])"
      ]
     },
     "execution_count": 65,
     "metadata": {},
     "output_type": "execute_result"
    }
   ],
   "source": [
    "a = np.array([1, 2, 3, 4])\n",
    "b = np.array([4, 3, 2, 1])\n",
    "a < b"
   ]
  },
  {
   "cell_type": "code",
   "execution_count": 66,
   "metadata": {},
   "outputs": [
    {
     "data": {
      "text/plain": [
       "False"
      ]
     },
     "execution_count": 66,
     "metadata": {},
     "output_type": "execute_result"
    }
   ],
   "source": [
    "np.all(a < b)\n"
   ]
  },
  {
   "cell_type": "code",
   "execution_count": 67,
   "metadata": {},
   "outputs": [
    {
     "data": {
      "text/plain": [
       "True"
      ]
     },
     "execution_count": 67,
     "metadata": {},
     "output_type": "execute_result"
    }
   ],
   "source": [
    "np.any(a < b)\n"
   ]
  },
  {
   "cell_type": "code",
   "execution_count": 68,
   "metadata": {},
   "outputs": [
    {
     "name": "stdout",
     "output_type": "stream",
     "text": [
      "[-4. -3. -2. -1.  0.  1.  2.  3.  4.]\n"
     ]
    }
   ],
   "source": [
    "x = np.linspace(-4, 4, 9)\n",
    "print(x)"
   ]
  },
  {
   "cell_type": "code",
   "execution_count": 69,
   "metadata": {},
   "outputs": [
    {
     "data": {
      "text/plain": [
       "array([16.,  9.,  4.,  1.,  0.,  1.,  8., 27., 64.])"
      ]
     },
     "execution_count": 69,
     "metadata": {},
     "output_type": "execute_result"
    }
   ],
   "source": [
    "np.where(x < 0, x**2, x**3)"
   ]
  },
  {
   "cell_type": "code",
   "execution_count": 70,
   "metadata": {},
   "outputs": [
    {
     "data": {
      "text/plain": [
       "array([ 16.,   9.,   4.,  -1.,   0.,   1.,  16.,  81., 256.])"
      ]
     },
     "execution_count": 70,
     "metadata": {},
     "output_type": "execute_result"
    }
   ],
   "source": [
    "np.select([x < -1, x < 2, x >= 2], [x**2, x**3 , x**4]) #pay attention to the example where conditions have overlap"
   ]
  },
  {
   "cell_type": "code",
   "execution_count": 71,
   "metadata": {},
   "outputs": [
    {
     "data": {
      "text/plain": [
       "array([ 16.,   9.,   4.,  -1.,   0.,   1.,  16.,   9., 256.])"
      ]
     },
     "execution_count": 71,
     "metadata": {},
     "output_type": "execute_result"
    }
   ],
   "source": [
    "np.choose([0, 0, 0, 1, 2, 1, 2, 0, 2], [x**2, x**3, x**4])"
   ]
  },
  {
   "cell_type": "code",
   "execution_count": 72,
   "metadata": {},
   "outputs": [
    {
     "data": {
      "text/plain": [
       "array([-4., -3.,  3.,  4.])"
      ]
     },
     "execution_count": 72,
     "metadata": {},
     "output_type": "execute_result"
    }
   ],
   "source": [
    "x[abs(x) > 2]"
   ]
  },
  {
   "cell_type": "code",
   "execution_count": 73,
   "metadata": {},
   "outputs": [
    {
     "data": {
      "text/plain": [
       "(array([0, 1, 2, 3, 5, 6, 7, 8]),)"
      ]
     },
     "execution_count": 73,
     "metadata": {},
     "output_type": "execute_result"
    }
   ],
   "source": [
    "np.nonzero(x)"
   ]
  },
  {
   "cell_type": "code",
   "execution_count": 74,
   "metadata": {},
   "outputs": [
    {
     "data": {
      "text/plain": [
       "(array([0, 1, 7, 8]),)"
      ]
     },
     "execution_count": 74,
     "metadata": {},
     "output_type": "execute_result"
    }
   ],
   "source": [
    "np.nonzero(abs(x) > 2)"
   ]
  },
  {
   "cell_type": "code",
   "execution_count": 75,
   "metadata": {},
   "outputs": [
    {
     "data": {
      "text/plain": [
       "array([-4., -3.,  3.,  4.])"
      ]
     },
     "execution_count": 75,
     "metadata": {},
     "output_type": "execute_result"
    }
   ],
   "source": [
    "x[np.nonzero(abs(x) > 2)]"
   ]
  },
  {
   "cell_type": "markdown",
   "metadata": {},
   "source": [
    "# more about efficiency"
   ]
  },
  {
   "cell_type": "code",
   "execution_count": 76,
   "metadata": {},
   "outputs": [
    {
     "name": "stdout",
     "output_type": "stream",
     "text": [
      "Element Type:  int64\n",
      "Shape:    (5, 5)\n",
      "Strides:  (40, 8)\n",
      "[[ 0  1  2  3  4]\n",
      " [ 5  6  7  8  9]\n",
      " [10 11 12 13 14]\n",
      " [15 16 17 18 19]\n",
      " [20 21 22 23 24]]\n",
      "\n",
      "10\n",
      "50\n"
     ]
    }
   ],
   "source": [
    "#row v.s. column operations\n",
    "a = np.arange(25).reshape(5, 5)\n",
    "print_array(a)\n",
    "print(a[0,:].sum())\n",
    "print(a[:,0].sum())"
   ]
  },
  {
   "cell_type": "code",
   "execution_count": 77,
   "metadata": {},
   "outputs": [
    {
     "name": "stdout",
     "output_type": "stream",
     "text": [
      "3.64 µs ± 55.5 ns per loop (mean ± std. dev. of 7 runs, 100000 loops each)\n",
      "35.6 µs ± 501 ns per loop (mean ± std. dev. of 7 runs, 10000 loops each)\n",
      "35.5 µs ± 472 ns per loop (mean ± std. dev. of 7 runs, 10000 loops each)\n",
      "3.54 µs ± 60.2 ns per loop (mean ± std. dev. of 7 runs, 100000 loops each)\n",
      "35.7 µs ± 362 ns per loop (mean ± std. dev. of 7 runs, 10000 loops each)\n",
      "3.63 µs ± 48.5 ns per loop (mean ± std. dev. of 7 runs, 100000 loops each)\n",
      "3.67 µs ± 56 ns per loop (mean ± std. dev. of 7 runs, 100000 loops each)\n",
      "36.2 µs ± 169 ns per loop (mean ± std. dev. of 7 runs, 10000 loops each)\n"
     ]
    }
   ],
   "source": [
    "a = np.random.rand(5000, 5000)\n",
    "%timeit a[0, :].sum() \n",
    "%timeit a[:, 0].sum() \n",
    "b = a.T\n",
    "%timeit b[0, :].sum() \n",
    "%timeit b[:, 0].sum()\n",
    "c = np.array(a, copy = True, order = 'F')\n",
    "%timeit c[0, :].sum() \n",
    "%timeit c[:, 0].sum() \n",
    "d = np.array(a, copy = True, order = 'C')\n",
    "%timeit d[0, :].sum() \n",
    "%timeit d[:, 0].sum() "
   ]
  },
  {
   "cell_type": "code",
   "execution_count": 78,
   "metadata": {},
   "outputs": [
    {
     "name": "stdout",
     "output_type": "stream",
     "text": [
      "Element Type:  int64\n",
      "Shape:    (2, 3)\n",
      "Strides:  (24, 8)\n",
      "[[0 1 2]\n",
      " [3 4 5]]\n",
      "\n",
      "[0 1 2 3 4 5]\n",
      "Iters: \n",
      "0 1 2 3 4 5 \n",
      "\n",
      "Element Type:  int64\n",
      "Shape:    (3, 2)\n",
      "Strides:  (8, 24)\n",
      "[[0 3]\n",
      " [1 4]\n",
      " [2 5]]\n",
      "\n",
      "[0 3 1 4 2 5]\n",
      "Iters: \n",
      "0 1 2 3 4 5 \n",
      "\n",
      "Element Type:  int64\n",
      "Shape:    (3, 2)\n",
      "Strides:  (16, 8)\n",
      "[[0 3]\n",
      " [1 4]\n",
      " [2 5]]\n",
      "\n",
      "[0 3 1 4 2 5]\n",
      "Iters: \n",
      "0 3 1 4 2 5 \n",
      "\n"
     ]
    }
   ],
   "source": [
    "#iterating through a ndarray\n",
    "a = np.arange(6).reshape(2,3) \n",
    "\n",
    "def print_nditer(b):\n",
    "    print_array(b)\n",
    "    print(b.ravel())\n",
    "    print(\"Iters: \")\n",
    "    for x in np.nditer(b): \n",
    "        print(x, end = ' ')\n",
    "    print(\"\\n\")\n",
    "\n",
    "print_nditer(a)\n",
    "print_nditer(a.T)\n",
    "print_nditer(a.T.copy(order = 'C'))     "
   ]
  },
  {
   "cell_type": "markdown",
   "metadata": {},
   "source": [
    "# Applications"
   ]
  },
  {
   "cell_type": "markdown",
   "metadata": {},
   "source": [
    "## application example 1: compute mean square error"
   ]
  },
  {
   "cell_type": "code",
   "execution_count": 79,
   "metadata": {},
   "outputs": [
    {
     "name": "stdout",
     "output_type": "stream",
     "text": [
      "[[0.23822734 0.68180726 0.44882257]\n",
      " [0.01089235 0.67274692 0.55869807]]\n",
      "[[0.80727853 0.1161857  0.42989114]\n",
      " [0.24076372 0.61585185 0.04083009]]\n"
     ]
    },
    {
     "data": {
      "text/plain": [
       "array([0.18833005, 0.1615824 , 0.13427282])"
      ]
     },
     "execution_count": 79,
     "metadata": {},
     "output_type": "execute_result"
    }
   ],
   "source": [
    "def mean_square_error(y_hat, y):\n",
    "    print(y_hat)\n",
    "    print(y)\n",
    "    return np.average(np.square(y_hat - y), axis = 0)\n",
    "\n",
    "y = np.random.rand(6).reshape(2,3)\n",
    "y_hat = np.random.rand(6).reshape(2,3)\n",
    "\n",
    "mean_square_error(y_hat, y)"
   ]
  },
  {
   "cell_type": "markdown",
   "metadata": {},
   "source": [
    "## application example 2: finding the local maximum"
   ]
  },
  {
   "cell_type": "code",
   "execution_count": null,
   "metadata": {},
   "outputs": [],
   "source": [
    "#loop\n",
    "bindex1 = []\n",
    "for i in range(1, len(a) - 1):\n",
    "    if (a[i] > a[i - 1]) & (a[i] > a[i + 1]):\n",
    "        bindex1.append(True)\n",
    "    else:\n",
    "        bindex1.append(False)\n",
    "        \n",
    "#list compre.\n",
    "bindex2 = [(a[i] > a[i - 1]) & (a[i] > a[i + 1]) for i in range(1, len(a) - 1)]"
   ]
  },
  {
   "cell_type": "code",
   "execution_count": 80,
   "metadata": {},
   "outputs": [
    {
     "name": "stdout",
     "output_type": "stream",
     "text": [
      "[9 2 7 7 3 6 3 7 6 2]\n",
      "[False False  True False  True False  True False]\n",
      "[7 6 7]\n",
      "[ True False False  True False  True False False]\n",
      "[2 3 3]\n"
     ]
    }
   ],
   "source": [
    "a = np.random.randint(0, 10, [10])\n",
    "print(a)\n",
    "# maxima\n",
    "index = (a[0:-2] <= a[1:-1]) & (a[1:-1] > a[2:])\n",
    "print(index)\n",
    "print(a[1:-1][index])\n",
    "# minima\n",
    "index = (a[0:-2] >= a[1:-1]) & (a[1:-1] < a[2:])\n",
    "print(index)  \n",
    "print(a[1:-1][index])"
   ]
  },
  {
   "cell_type": "markdown",
   "metadata": {},
   "source": [
    "## application example 3: average in sliding windows"
   ]
  },
  {
   "cell_type": "code",
   "execution_count": 64,
   "metadata": {},
   "outputs": [
    {
     "name": "stdout",
     "output_type": "stream",
     "text": [
      "[0 1 2 3 4 5 6 7 8 9]\n",
      "[0 1 2 3 4 5 6 7] [1 2 3 4 5 6 7 8] [2 3 4 5 6 7 8 9]\n",
      "[1. 2. 3. 4. 5. 6. 7. 8.]\n",
      "[ 0  1  3  6 10 15 21 28 36 45]\n",
      "[ 6 10 15 21 28 36 45]\n",
      "[ 0  1  3  6 10 15 21]\n",
      "[1. 2. 3. 4. 5. 6. 7. 8.]\n"
     ]
    }
   ],
   "source": [
    "#for window size 3\n",
    "x = np.arange(10)\n",
    "print(x)\n",
    "print(x[:-2],x[1:-1],x[2:])\n",
    "ave = (x[:-2] + x[1:-1] + x[2:] )/3\n",
    "print(ave)\n",
    "\n",
    "#for window size k\n",
    "k = 3\n",
    "accu = np.add.accumulate(x)\n",
    "print(accu)\n",
    "print(accu[k:])\n",
    "print(accu[:-k])\n",
    "accu[k:] = accu[k : ] - accu[: - k ]\n",
    "print(accu[k-1:]/k)\n"
   ]
  },
  {
   "cell_type": "markdown",
   "metadata": {},
   "source": [
    "## application example 4: compute the square root of an array"
   ]
  },
  {
   "cell_type": "code",
   "execution_count": 14,
   "metadata": {
    "scrolled": true
   },
   "outputs": [
    {
     "name": "stdout",
     "output_type": "stream",
     "text": [
      "[[  -4  -69  -43  -35   89]\n",
      " [  47  -63   32  -88   15]\n",
      " [  50  -39   91    1   24]\n",
      " [  98   93  -20  -38 -100]\n",
      " [  -3   20    7   77   90]]\n",
      "[[ 2.         8.306623   6.5574384  5.91608    9.433981 ]\n",
      " [ 6.8556547  7.937254   5.656854   9.380832   3.8729835]\n",
      " [ 7.071068   6.244998   9.539392   1.         4.8989797]\n",
      " [ 9.899495   9.643651   4.472136   6.164414  10.       ]\n",
      " [ 1.7320508  4.472136   2.6457512  8.774964   9.486833 ]]\n",
      "[[ 2.          8.30662386  6.55743852  5.91607978  9.43398113]\n",
      " [ 6.8556546   7.93725393  5.65685425  9.38083152  3.87298335]\n",
      " [ 7.07106781  6.244998    9.53939201  1.          4.89897949]\n",
      " [ 9.89949494  9.64365076  4.47213595  6.164414   10.        ]\n",
      " [ 1.73205081  4.47213595  2.64575131  8.77496439  9.48683298]]\n",
      "[[ 2.          8.30662386  6.55743852  5.91607978  9.43398113]\n",
      " [ 6.8556546   7.93725393  5.65685425  9.38083152  3.87298335]\n",
      " [ 7.07106781  6.244998    9.53939201  1.          4.89897949]\n",
      " [ 9.89949494  9.64365076  4.47213595  6.164414   10.        ]\n",
      " [ 1.73205081  4.47213595  2.64575131  8.77496439  9.48683298]]\n",
      "6.21 µs ± 50.2 ns per loop (mean ± std. dev. of 7 runs, 100000 loops each)\n",
      "36.8 µs ± 182 ns per loop (mean ± std. dev. of 7 runs, 10000 loops each)\n",
      "3.73 µs ± 35.9 ns per loop (mean ± std. dev. of 7 runs, 100000 loops each)\n"
     ]
    }
   ],
   "source": [
    "x = np.random.randint(-100, 101, (5,5))\n",
    "print(x)\n",
    "\n",
    "#np.sqrt(x) \n",
    "\n",
    "def method1(x):\n",
    "    x = np.array(x, dtype = \"float32\")\n",
    "    np.sqrt(x, where = x > 0, out = x)\n",
    "    np.sqrt(-x, where = x < 0, out = x)\n",
    "    return x\n",
    "\n",
    "def method2(x):\n",
    "    mysqrt = np.vectorize(lambda x: np.sqrt(x) if x > 0 else np.sqrt(-x))\n",
    "    return mysqrt(x)\n",
    "\n",
    "def method3(x):\n",
    "    y = np.where(x<0, -x, x)\n",
    "    return np.sqrt(y)\n",
    "\n",
    "print(method1(x))\n",
    "print(method2(x))\n",
    "print(method3(x))\n",
    "\n",
    "%timeit method1(x)\n",
    "%timeit method2(x)\n",
    "%timeit method3(x)\n",
    "\n"
   ]
  },
  {
   "cell_type": "markdown",
   "metadata": {},
   "source": [
    "## application example 5: game of life"
   ]
  },
  {
   "cell_type": "code",
   "execution_count": 35,
   "metadata": {},
   "outputs": [
    {
     "name": "stdout",
     "output_type": "stream",
     "text": [
      "[[0. 0. 0. 0. 0. 0. 0. 0. 0. 0.]\n",
      " [0. 0. 0. 0. 0. 0. 0. 0. 0. 0.]\n",
      " [0. 0. 0. 0. 0. 0. 0. 0. 0. 0.]\n",
      " [0. 0. 0. 0. 0. 0. 0. 0. 0. 0.]\n",
      " [0. 0. 0. 0. 0. 0. 0. 0. 0. 0.]\n",
      " [0. 0. 0. 0. 0. 0. 0. 0. 0. 0.]\n",
      " [0. 0. 0. 1. 1. 1. 0. 0. 0. 0.]\n",
      " [0. 0. 0. 0. 0. 0. 0. 0. 0. 0.]\n",
      " [0. 0. 0. 0. 0. 0. 0. 0. 0. 0.]\n",
      " [0. 0. 0. 0. 0. 0. 0. 0. 0. 0.]]\n"
     ]
    }
   ],
   "source": [
    "start = np.zeros((10,10))\n",
    "start[6, 3] = 1\n",
    "start[6, 4] = 1\n",
    "start[6, 5] = 1\n",
    "print(start)"
   ]
  },
  {
   "cell_type": "code",
   "execution_count": 77,
   "metadata": {},
   "outputs": [],
   "source": [
    "def gol_1(current):\n",
    "    next_game = current.copy()\n",
    "    m, n = current.shape\n",
    "    \n",
    "    neighbors = current.copy()\n",
    "    m, n = current.shape\n",
    "    neighbors[0][0] = current[0][1] + current[1][0] + current[1][1]\n",
    "    neighbors[0][-1] = current[0][-2] + current[1][-1] + current[1][-2]\n",
    "    neighbors[-1][0] = current[-1][1] + current[-2][0] + current[-2][1]\n",
    "    neighbors[-1][-1] = current[-1][-2] + current[-2][-1] + current[-2][-2]\n",
    "\n",
    "    for j in range(1, n - 1):\n",
    "        neighbors[0][j] = current[0][j - 1] + current[0][j + 1] + current[1][j] + current[1][j - 1] + current[1][j + 1]\n",
    "        neighbors[-1][j] = current[-1][j - 1] + current[-1][j + 1] + current[-2][j] + current[-2][j - 1] + current[-2][j + 1]\n",
    "\n",
    "    for i in range(1, m - 1):\n",
    "        neighbors[i][0] = current[i - 1][0] + current[i + 1][0] + current[i][1] + current[i - 1][1] + current[i + 1][1]\n",
    "        neighbors[i][-1] = current[i - 1][-1] + current[i + 1][-1] + current[i][-2] + current[i - 1][-2] + current[i + 1][-2]\n",
    "\n",
    "    for i in range(1, m - 1):\n",
    "        for j in range(1, n - 1):\n",
    "            neighbors[i][j] = current[i - 1][j - 1] + current[i - 1][j] + current[i - 1][j + 1] \\\n",
    "                            + current[i][j - 1] + current[i][j + 1] \\\n",
    "                            + current[i + 1][j - 1] + current[i + 1][j] + current[i + 1][j + 1]     \n",
    "\n",
    "    for i in range(0, m):\n",
    "        for j in range(0, n):\n",
    "            if current[i][j] == 1 and (neighbors[i][j] == 2 or neighbors[i][j] == 3):\n",
    "                next_game[i][j] = 1\n",
    "            elif current[i][j] == 0 and neighbors[i][j] == 3:\n",
    "                next_game[i][j] = 1\n",
    "            else:\n",
    "                next_game[i][j] = 0\n",
    "    \n",
    "    return next_game\n",
    "    \n"
   ]
  },
  {
   "cell_type": "code",
   "execution_count": 85,
   "metadata": {},
   "outputs": [],
   "source": [
    "def get_neighbors(current):\n",
    "    neighbors = np.zeros_like(current)\n",
    "    m, n = current.shape\n",
    "    neighbors[0][0] = current[0][1] + current[1][0] + current[1][1]\n",
    "    neighbors[0][-1] = current[0][-2] + current[1][-1] + current[1][-2]\n",
    "    neighbors[-1][0] = current[-1][1] + current[-2][0] + current[-2][1]\n",
    "    neighbors[-1][-1] = current[-1][-2] + current[-2][-1] + current[-2][-2]\n",
    "\n",
    "    for j in range(1, n - 1):\n",
    "        neighbors[0][j] = current[0][j - 1] + current[0][j + 1] + current[1][j] + current[1][j - 1] + current[1][j + 1]\n",
    "        neighbors[-1][j] = current[-1][j - 1] + current[-1][j + 1] + current[-2][j] + current[-2][j - 1] + current[-2][j + 1]\n",
    "\n",
    "    for i in range(1, m - 1):\n",
    "        neighbors[i][0] = current[i - 1][0] + current[i + 1][0] + current[i][1] + current[i - 1][1] + current[i + 1][1]\n",
    "        neighbors[i][-1] = current[i - 1][-1] + current[i + 1][-1] + current[i][-2] + current[i - 1][-2] + current[i + 1][-2]\n",
    "\n",
    "    for i in range(1, m - 1):\n",
    "        for j in range(1, n - 1):\n",
    "            neighbors[i][j] = current[i - 1][j - 1] + current[i - 1][j] + current[i - 1][j + 1] \\\n",
    "                            + current[i][j - 1] + current[i][j + 1] \\\n",
    "                            + current[i + 1][j - 1] + current[i + 1][j] + current[i + 1][j + 1] \n",
    "    return neighbors\n",
    "\n",
    "def get_next_game(current, neighbors):\n",
    "    next_game = np.zeros_like(current)\n",
    "    m, n = current.shape\n",
    "\n",
    "    for i in range(0, m):\n",
    "        for j in range(0, n):\n",
    "            if current[i][j] == 1 and (neighbors[i][j] == 2 or neighbors[i][j] == 3):\n",
    "                next_game[i][j] = 1\n",
    "            elif current[i][j] == 0 and neighbors[i][j] == 3:\n",
    "                next_game[i][j] = 1\n",
    "            else:\n",
    "                next_game[i][j] = 0\n",
    "    return next_game\n",
    "\n",
    "\n",
    "def gol_2(current):\n",
    "        \n",
    "    neighbors = get_neighbors(current)\n",
    "    \n",
    "    next_game = get_next_game(current, neighbors)\n",
    "    \n",
    "    return next_game\n",
    "    \n",
    "def gol_3(current, get_neighbors, get_next_game):\n",
    "    \n",
    "    neighbors = get_neighbors(current)\n",
    "    \n",
    "    next_game = get_next_game(current, neighbors)\n",
    "    \n",
    "    return next_game"
   ]
  },
  {
   "cell_type": "code",
   "execution_count": 92,
   "metadata": {},
   "outputs": [
    {
     "data": {
      "text/plain": [
       "array([[0, 0, 0, 0, 0, 0, 0, 0, 0, 0],\n",
       "       [0, 0, 0, 0, 0, 0, 0, 0, 0, 0],\n",
       "       [0, 0, 0, 0, 0, 0, 0, 0, 0, 0],\n",
       "       [0, 0, 0, 0, 0, 0, 0, 0, 0, 0],\n",
       "       [0, 0, 0, 0, 0, 0, 0, 0, 0, 0],\n",
       "       [0, 0, 0, 0, 1, 0, 0, 0, 0, 0],\n",
       "       [0, 0, 0, 0, 1, 0, 0, 0, 0, 0],\n",
       "       [0, 0, 0, 0, 1, 0, 0, 0, 0, 0],\n",
       "       [0, 0, 0, 0, 0, 0, 0, 0, 0, 0],\n",
       "       [0, 0, 0, 0, 0, 0, 0, 0, 0, 0]])"
      ]
     },
     "execution_count": 92,
     "metadata": {},
     "output_type": "execute_result"
    }
   ],
   "source": [
    "def get_neighbors_2(current):\n",
    "    m, n = current.shape\n",
    "    new_current = np.zeros((m + 2, n + 2))\n",
    "    new_current[1:-1, 1:-1] = current\n",
    "\n",
    "    neighbors = new_current[:-2,:-2] + new_current[:-2, 1:-1] + new_current[:-2, 2:] \\\n",
    "                + new_current[1:-1, :-2] + new_current[1:-1, 2:] \\\n",
    "                + new_current[2:,:-2] + new_current[2:, 1:-1] + new_current[2:, 2:]\n",
    "    \n",
    "    return neighbors  \n",
    "    \n",
    "def get_next_game_2(current, neighbors):\n",
    "    \n",
    "    next_game = np.select([np.logical_and(current == 1, np.logical_or(neighbors == 2, neighbors == 3)), \\\n",
    "                             np.logical_and(current == 0, neighbors == 3)] \\\n",
    "                            , [1, 1])\n",
    "    \n",
    "    return next_game\n",
    "gol_3(start, get_neighbors_2, get_next_game2)"
   ]
  },
  {
   "cell_type": "code",
   "execution_count": 87,
   "metadata": {},
   "outputs": [
    {
     "name": "stdout",
     "output_type": "stream",
     "text": [
      "34.3 ms ± 586 µs per loop (mean ± std. dev. of 7 runs, 10 loops each)\n"
     ]
    }
   ],
   "source": [
    "%%timeit\n",
    "    current = start\n",
    "    for i in range(100):\n",
    "    #     print(current)\n",
    "        current = gol_2(current)"
   ]
  },
  {
   "cell_type": "code",
   "execution_count": 89,
   "metadata": {},
   "outputs": [
    {
     "name": "stdout",
     "output_type": "stream",
     "text": [
      "35.5 ms ± 917 µs per loop (mean ± std. dev. of 7 runs, 10 loops each)\n"
     ]
    }
   ],
   "source": [
    "%%timeit\n",
    "    current = start\n",
    "    for i in range(100):\n",
    "    #     print(current)\n",
    "        current = gol_3(current, get_neighbors, get_next_game)"
   ]
  },
  {
   "cell_type": "code",
   "execution_count": 90,
   "metadata": {},
   "outputs": [
    {
     "name": "stdout",
     "output_type": "stream",
     "text": [
      "15.2 ms ± 87.3 µs per loop (mean ± std. dev. of 7 runs, 100 loops each)\n"
     ]
    }
   ],
   "source": [
    "%%timeit\n",
    "    current = start\n",
    "    for i in range(100):\n",
    "    #     print(current)\n",
    "        current = gol_3(current, get_neighbors_2, get_next_game)"
   ]
  },
  {
   "cell_type": "code",
   "execution_count": 93,
   "metadata": {},
   "outputs": [
    {
     "name": "stdout",
     "output_type": "stream",
     "text": [
      "4.22 ms ± 140 µs per loop (mean ± std. dev. of 7 runs, 100 loops each)\n"
     ]
    }
   ],
   "source": [
    "%%timeit\n",
    "    current = start\n",
    "    for i in range(100):\n",
    "    #     print(current)\n",
    "        current = gol_3(current, get_neighbors_2, get_next_game_2)"
   ]
  }
 ],
 "metadata": {
  "kernelspec": {
   "display_name": "Python 3",
   "language": "python",
   "name": "python3"
  },
  "language_info": {
   "codemirror_mode": {
    "name": "ipython",
    "version": 3
   },
   "file_extension": ".py",
   "mimetype": "text/x-python",
   "name": "python",
   "nbconvert_exporter": "python",
   "pygments_lexer": "ipython3",
   "version": "3.7.16"
  }
 },
 "nbformat": 4,
 "nbformat_minor": 2
}
